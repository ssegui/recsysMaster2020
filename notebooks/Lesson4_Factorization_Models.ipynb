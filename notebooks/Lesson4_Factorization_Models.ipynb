{
 "cells": [
  {
   "cell_type": "markdown",
   "metadata": {},
   "source": [
    "## Lesson 3: Collaborative-based recommender systems: Factorization\n",
    "\n",
    "https://www.kaggle.com/prashant111/recommender-systems-in-python\n",
    "\n",
    "https://towardsdatascience.com/recsys-series-part-4-the-7-variants-of-matrix-factorization-for-collaborative-filtering-368754e4fab5\n",
    "\n",
    "https://heartbeat.fritz.ai/recommender-systems-with-python-part-iii-collaborative-filtering-singular-value-decomposition-5b5dcb3f242b"
   ]
  },
  {
   "cell_type": "code",
   "execution_count": 1,
   "metadata": {},
   "outputs": [],
   "source": [
    "def evaluate(predict_f,data_train,data_test):\n",
    "    \"\"\" RMSE-based predictive performance evaluation with pandas. \"\"\"\n",
    "    ids_to_estimate = zip(data_test.user_id, data_test.movie_id)\n",
    "    estimated = np.array([predict_f(u,i) if u in data_train.user_id else 3 for (u,i) in ids_to_estimate ])\n",
    "    real = data_test.rating.values\n",
    "    return compute_rmse(estimated, real)\n",
    "\n",
    "def compute_rmse(y_pred, y_true):\n",
    "    \"\"\" Compute Root Mean Squared Error. \"\"\"\n",
    "    return np.sqrt(np.mean(np.power(y_pred - y_true, 2)))\n",
    "\n",
    "\n",
    "## Divide the data in two sets: training and test\n",
    "def assign_to_set(df):\n",
    "    sampled_ids = np.random.choice(df.index,\n",
    "                                   size=np.int64(np.ceil(df.index.size * 0.2)),\n",
    "                                   replace=False)\n",
    "    df.loc[sampled_ids, 'for_testing'] = True\n",
    "    return df"
   ]
  },
  {
   "cell_type": "code",
   "execution_count": 2,
   "metadata": {},
   "outputs": [
    {
     "data": {
      "application/javascript": [
       "IPython.notebook.set_autosave_interval(150000)"
      ]
     },
     "metadata": {},
     "output_type": "display_data"
    },
    {
     "name": "stdout",
     "output_type": "stream",
     "text": [
      "Autosaving every 150 seconds\n"
     ]
    },
    {
     "name": "stderr",
     "output_type": "stream",
     "text": [
      "<ipython-input-2-5608d553b072>:11: ParserWarning: Falling back to the 'python' engine because the 'c' engine does not support regex separators (separators > 1 char and different from '\\s+' are interpreted as regex); you can avoid this warning by specifying engine='python'.\n",
      "  users = pd.read_csv('../data/ml-1m/users.dat', sep='::', names=u_cols)\n",
      "<ipython-input-2-5608d553b072>:14: ParserWarning: Falling back to the 'python' engine because the 'c' engine does not support regex separators (separators > 1 char and different from '\\s+' are interpreted as regex); you can avoid this warning by specifying engine='python'.\n",
      "  ratings = pd.read_csv('../data/ml-1m/ratings.dat', sep='::', names=r_cols)\n",
      "<ipython-input-2-5608d553b072>:19: ParserWarning: Falling back to the 'python' engine because the 'c' engine does not support regex separators (separators > 1 char and different from '\\s+' are interpreted as regex); you can avoid this warning by specifying engine='python'.\n",
      "  movies = pd.read_csv('../data/ml-1m/movies.dat', sep='::', names=m_cols, usecols=range(3), encoding='latin-1')\n"
     ]
    },
    {
     "name": "stdout",
     "output_type": "stream",
     "text": [
      "Full DB has 1000209 ratings\n",
      "Full DB has  6040  users\n",
      "Full DB has  3706  movies\n",
      "Training data_set has 797758 ratings\n",
      "Test data set has 202451 ratings\n"
     ]
    }
   ],
   "source": [
    "#NETFLIX REAL 50.000.000 usuaris and 100.000 items\n",
    "%autosave 150\n",
    "%matplotlib inline\n",
    "import pandas as pd\n",
    "import numpy as np\n",
    "import math\n",
    "import matplotlib.pylab as plt\n",
    "\n",
    "# Load Data set\n",
    "u_cols = ['user_id', 'age', 'sex', 'occupation', 'zip_code']\n",
    "users = pd.read_csv('../data/ml-1m/users.dat', sep='::', names=u_cols)\n",
    "\n",
    "r_cols = ['user_id', 'movie_id', 'rating', 'unix_timestamp']\n",
    "ratings = pd.read_csv('../data/ml-1m/ratings.dat', sep='::', names=r_cols)\n",
    "\n",
    "# the movies file contains columns indicating the movie's genres\n",
    "# let's only load the first three columns of the file with usecols\n",
    "m_cols = ['movie_id', 'title', 'release_date']\n",
    "movies = pd.read_csv('../data/ml-1m/movies.dat', sep='::', names=m_cols, usecols=range(3), encoding='latin-1')\n",
    "\n",
    "# Construcció del DataFrame\n",
    "data = pd.merge(pd.merge(ratings, users), movies)\n",
    "data = data[['user_id','title', 'movie_id','rating','release_date','sex','age']]\n",
    "\n",
    "\n",
    "print(\"Full DB has \"+ str(data.shape[0]) +\" ratings\")\n",
    "print(\"Full DB has \", data.user_id.nunique(),\" users\")\n",
    "print(\"Full DB has \", data.movie_id.nunique(), \" movies\")\n",
    "data.head()\n",
    "\n",
    "\n",
    "\n",
    "\n",
    "## DIVIDE THE DATA INTO TRAINING AND TEST SET\n",
    "data['for_testing'] = False\n",
    "grouped = data.groupby('user_id', group_keys=False).apply(assign_to_set)\n",
    "data_train = data[grouped.for_testing == False]\n",
    "data_test = data[grouped.for_testing == True]\n",
    "\n",
    "\n",
    "print(\"Training data_set has \"+ str(data_train.shape[0]) +\" ratings\")\n",
    "print(\"Test data set has \"+ str(data_test.shape[0]) +\" ratings\")"
   ]
  },
  {
   "cell_type": "code",
   "execution_count": 3,
   "metadata": {},
   "outputs": [
    {
     "data": {
      "image/png": "[encoded data removed]",
      "text/plain": [
       "<Figure size 432x288 with 1 Axes>"
      ]
     },
     "metadata": {
      "needs_background": "light"
     },
     "output_type": "display_data"
    }
   ],
   "source": [
    "plt.hist(data.rating,bins=5)\n",
    "plt.show()"
   ]
  },
  {
   "cell_type": "code",
   "execution_count": 4,
   "metadata": {},
   "outputs": [
    {
     "data": {
      "text/html": [
       "<div>\n",
       "<style scoped>\n",
       "    .dataframe tbody tr th:only-of-type {\n",
       "        vertical-align: middle;\n",
       "    }\n",
       "\n",
       "    .dataframe tbody tr th {\n",
       "        vertical-align: top;\n",
       "    }\n",
       "\n",
       "    .dataframe thead th {\n",
       "        text-align: right;\n",
       "    }\n",
       "</style>\n",
       "<table border=\"1\" class=\"dataframe\">\n",
       "  <thead>\n",
       "    <tr style=\"text-align: right;\">\n",
       "      <th></th>\n",
       "      <th>user_id</th>\n",
       "      <th>title</th>\n",
       "      <th>movie_id</th>\n",
       "      <th>release_date</th>\n",
       "      <th>sex</th>\n",
       "      <th>age</th>\n",
       "      <th>for_testing</th>\n",
       "    </tr>\n",
       "    <tr>\n",
       "      <th>rating</th>\n",
       "      <th></th>\n",
       "      <th></th>\n",
       "      <th></th>\n",
       "      <th></th>\n",
       "      <th></th>\n",
       "      <th></th>\n",
       "      <th></th>\n",
       "    </tr>\n",
       "  </thead>\n",
       "  <tbody>\n",
       "    <tr>\n",
       "      <th>1</th>\n",
       "      <td>56174</td>\n",
       "      <td>56174</td>\n",
       "      <td>56174</td>\n",
       "      <td>56174</td>\n",
       "      <td>56174</td>\n",
       "      <td>56174</td>\n",
       "      <td>56174</td>\n",
       "    </tr>\n",
       "    <tr>\n",
       "      <th>2</th>\n",
       "      <td>107557</td>\n",
       "      <td>107557</td>\n",
       "      <td>107557</td>\n",
       "      <td>107557</td>\n",
       "      <td>107557</td>\n",
       "      <td>107557</td>\n",
       "      <td>107557</td>\n",
       "    </tr>\n",
       "    <tr>\n",
       "      <th>3</th>\n",
       "      <td>261197</td>\n",
       "      <td>261197</td>\n",
       "      <td>261197</td>\n",
       "      <td>261197</td>\n",
       "      <td>261197</td>\n",
       "      <td>261197</td>\n",
       "      <td>261197</td>\n",
       "    </tr>\n",
       "    <tr>\n",
       "      <th>4</th>\n",
       "      <td>348971</td>\n",
       "      <td>348971</td>\n",
       "      <td>348971</td>\n",
       "      <td>348971</td>\n",
       "      <td>348971</td>\n",
       "      <td>348971</td>\n",
       "      <td>348971</td>\n",
       "    </tr>\n",
       "    <tr>\n",
       "      <th>5</th>\n",
       "      <td>226310</td>\n",
       "      <td>226310</td>\n",
       "      <td>226310</td>\n",
       "      <td>226310</td>\n",
       "      <td>226310</td>\n",
       "      <td>226310</td>\n",
       "      <td>226310</td>\n",
       "    </tr>\n",
       "  </tbody>\n",
       "</table>\n",
       "</div>"
      ],
      "text/plain": [
       "        user_id   title  movie_id  release_date     sex     age  for_testing\n",
       "rating                                                                      \n",
       "1         56174   56174     56174         56174   56174   56174        56174\n",
       "2        107557  107557    107557        107557  107557  107557       107557\n",
       "3        261197  261197    261197        261197  261197  261197       261197\n",
       "4        348971  348971    348971        348971  348971  348971       348971\n",
       "5        226310  226310    226310        226310  226310  226310       226310"
      ]
     },
     "execution_count": 4,
     "metadata": {},
     "output_type": "execute_result"
    }
   ],
   "source": [
    "data.groupby(by='rating').count()"
   ]
  },
  {
   "cell_type": "markdown",
   "metadata": {},
   "source": [
    "### Factorization Matrix as Dimensionality Reduction"
   ]
  },
  {
   "cell_type": "code",
   "execution_count": 12,
   "metadata": {},
   "outputs": [],
   "source": [
    "from sklearn.decomposition import TruncatedSVD\n",
    "from sklearn.metrics.pairwise import cosine_similarity\n",
    "from scipy import sparse\n",
    "\n",
    "class SVD_CollaborativeFiltering:\n",
    "    \"\"\" Collaborative filtering using a custom sim(u,u'). \"\"\"\n",
    "    \n",
    "    def __init__(self,DataFrame, num_components=10):\n",
    "        \"\"\" Constructor \"\"\"\n",
    "        self.df=DataFrame\n",
    "        ##self.sim = pd.DataFrame(np.sum([0]),columns=data_train.user_id.unique(), index=data_train.user_id.unique())\n",
    "        self.num_components=num_components\n",
    "        \n",
    "    def fit(self):\n",
    "        \"\"\" Prepare data structures for estimation. Similarity matrix for users \"\"\"\n",
    "        allUsers=set(self.df['user_id'])\n",
    "        \n",
    "        svd = TruncatedSVD(n_components=self.num_components)\n",
    "        \n",
    "        urm = pd.pivot_table(self.df[['user_id','movie_id','rating']],columns='movie_id',index='user_id',values='rating',fill_value=0)\n",
    "        \n",
    "        user_index = np.arange(len(urm.index))\n",
    "        self.users = dict(zip(user_index,urm.index ))\n",
    "        self.users_id2index = dict(zip(urm.index,user_index)) \n",
    "        \n",
    "        movie_index = np.arange(len(urm.columns))\n",
    "        self.movies_id2index= dict(zip(urm.columns, movie_index))\n",
    "        self.movies_index2id= dict(zip(movie_index,urm.columns))\n",
    "        \n",
    "        X= np.float32(urm.values)\n",
    "        \n",
    "        \n",
    "        #Lets continue.....\n",
    "        matrix = svd.fit_transform(X)\n",
    "        print(matrix.shape)\n",
    "        self.sim = np.corrcoef(matrix)\n",
    "    \n",
    "    def predict(self, user_id, movie_id):\n",
    "        movie_users = self.df[self.df['movie_id'] ==movie_id]\n",
    "        #movie_users = movie_users.set_index('user_id')\n",
    "                \n",
    "        allUsers = [ self.users_id2index[user_index] for user_index in movie_users.user_id if user_index in self.users_id2index] \n",
    "        a = movie_users.rating.values\n",
    "        b = self.sim[self.users_id2index[user_id]][allUsers] \n",
    "        rating_num = np.sum(a*b)\n",
    "        rating_den = np.sum(b)\n",
    "        if rating_den==0: \n",
    "            if self.df.rating[self.df['movie_id']==movie_id].mean()>0:\n",
    "                # return the mean movie rating if there is no similar for the computation\n",
    "                return self.df.rating[self.df['movie_id']==movie_id].mean()\n",
    "            else:\n",
    "                # else return mean user rating \n",
    "                return self.df.rating[self.df['user_id']==user_id].mean()\n",
    "        return rating_num/rating_den\n"
   ]
  },
  {
   "cell_type": "code",
   "execution_count": 13,
   "metadata": {},
   "outputs": [
    {
     "name": "stdout",
     "output_type": "stream",
     "text": [
      "(6040, 10)\n",
      "RMSE for Collaborative Recomender: 1.0380034016565982\n"
     ]
    }
   ],
   "source": [
    "reco = SVD_CollaborativeFiltering(data_train,num_components=10)\n",
    "reco.fit()\n",
    "print('RMSE for Collaborative Recomender: %s' % evaluate(reco.predict,data_train,data_test))"
   ]
  },
  {
   "cell_type": "markdown",
   "metadata": {},
   "source": [
    "### FACTORIZATION MODEL SVD\n",
    "\n",
    "![alt Amazon](https://miro.medium.com/max/4800/1*b4M7o7W8bfRRxdMxtFoVBQ.png)"
   ]
  },
  {
   "cell_type": "code",
   "execution_count": 14,
   "metadata": {},
   "outputs": [],
   "source": [
    "from sklearn.decomposition import TruncatedSVD\n",
    "from scipy import sparse\n",
    "from scipy.linalg import sqrtm\n",
    "\n",
    "class RecSys_SVD:\n",
    "    \"\"\" Collaborative filtering using SVD. \"\"\"\n",
    "    \n",
    "    def __init__(self,DataFrame, num_components=10,method = 'svd'):\n",
    "        \"\"\" Constructor \"\"\"\n",
    "        self.df=DataFrame\n",
    "        ##self.sim = pd.DataFrame(np.sum([0]),columns=data_train.user_id.unique(), index=data_train.user_id.unique())\n",
    "        self.num_components=num_components\n",
    "        self.method = method\n",
    "        \n",
    "    def fit(self):\n",
    "        \"\"\" Prepare data structures for estimation. Similarity matrix for users \"\"\"\n",
    "        allUsers=set(self.df['user_id'])\n",
    "        \n",
    "        if(self.method =='TruncatedSVD'):\n",
    "            svd = TruncatedSVD(n_components=self.num_components)\n",
    "            train = pd.pivot_table(self.df[['user_id','movie_id','rating']],columns='movie_id',index='user_id',values='rating',fill_value=0)\n",
    "            self.Y_hat = svd.fit_transform(np.float32(train.values))\n",
    "        elif(self.method == 'svd'):\n",
    "            train = pd.pivot_table(self.df[['user_id','movie_id','rating']],columns='movie_id',index='user_id',values='rating')\n",
    "            train_matrix = np.array(train)\n",
    "            # we mask those nan value to fill with the mean \n",
    "            mask = np.isnan(train_matrix)\n",
    "            masked_arr = np.ma.masked_array(train_matrix, mask)\n",
    "            item_means = np.mean(masked_arr, axis=0)\n",
    "\n",
    "            # nan entries will replaced by the average rating for each item\n",
    "            train_matrix = masked_arr.filled(item_means)\n",
    "            x = np.tile(item_means, (train_matrix.shape[0],1))         \n",
    "            \n",
    "            # we remove the per item average from all entries.\n",
    "            # the above mentioned nan entries will be essentially zero now\n",
    "            train_matrix = train_matrix - x\n",
    "            self.train_matrix = train_matrix\n",
    "            U, s, V = np.linalg.svd(train_matrix, full_matrices=False)\n",
    "            s = np.diag(s)\n",
    "            \n",
    "            # reconstruct rating matix\n",
    "            \n",
    "            s=s[0:self.num_components,0:self.num_components]\n",
    "            U=U[:,0:self.num_components]\n",
    "            V=V[0:self.num_components,:]\n",
    "            s_root=sqrtm(s)\n",
    "\n",
    "            Usk=np.dot(U,s_root)\n",
    "            skV=np.dot(s_root,V)\n",
    "            Y_hat = np.dot(Usk, skV)\n",
    "            self.Y_hat = Y_hat + x\n",
    "\n",
    "        else:\n",
    "            print(\"method not implemented\")\n",
    "        \n",
    "        user_index = np.arange(len(train.index))\n",
    "        self.users = dict(zip(user_index,train.index ))\n",
    "        self.users_id2index = dict(zip(train.index,user_index)) \n",
    "        \n",
    "        movie_index = np.arange(len(train.columns))\n",
    "        self.movies_id2index= dict(zip(train.columns, movie_index))\n",
    "        self.movies_index2id= dict(zip(movie_index,train.columns))\n",
    "                \n",
    "\n",
    "\n",
    "    def predict(self, user_id, movie_id):\n",
    "        if movie_id in self.movies_id2index:\n",
    "            return self.Y_hat[self.users_id2index[user_id],self.movies_id2index[movie_id]]\n",
    "        else: \n",
    "            return 3\n"
   ]
  },
  {
   "cell_type": "code",
   "execution_count": 15,
   "metadata": {},
   "outputs": [
    {
     "name": "stdout",
     "output_type": "stream",
     "text": [
      "RMSE for Collaborative Recomender: 1.0015868246693787\n"
     ]
    }
   ],
   "source": [
    "reco = RecSys_SVD(data_train,num_components=30)\n",
    "reco.fit()\n",
    "print('RMSE for Collaborative Recomender: %s' % evaluate(reco.predict,data_train,data_test))"
   ]
  },
  {
   "cell_type": "markdown",
   "metadata": {},
   "source": [
    "## The Vanilla Matrix Factorization Model\n",
    "\n",
    "A straightforward matrix factorization model maps both users and items to a joint latent factor space of dimensionality D. User-item interaction are modeled as inner products in that space\n",
    "$$R = UV$$\n",
    "\n",
    "Each item j is associated with a vector $v_j$ from $V$, and each user $i$ is associated with a vecor $u_i$ from $U$.\n",
    "The resulting dot product $u_i\\cdot v_j$ captures the interaction between the user $i$ and item $j$:\n",
    "$$ \\hat{r} = u_i\\cdot v_j$$\n",
    "\n",
    "The goal of the matrix factorization consist on finding the mapping of each item and user to factors $u_i$ and $v_j$. To do so, the minimization the of squarred error function is performed:\n",
    "$$ \\sum(R_{ui} - u_i\\cdot v_j)^2$$"
   ]
  },
  {
   "cell_type": "code",
   "execution_count": null,
   "metadata": {},
   "outputs": [],
   "source": []
  },
  {
   "cell_type": "code",
   "execution_count": null,
   "metadata": {},
   "outputs": [],
   "source": [
    "from sklearn.decomposition import TruncatedSVD\n",
    "from sklearn.metrics.pairwise import cosine_similarity\n",
    "from scipy import sparse\n",
    "\n",
    "class RecSys_MF:\n",
    "    \"\"\" Collaborative filtering using a custom sim(u,u'). \"\"\"\n",
    "    \n",
    "    def __init__(self,DataFrame, num_components=10, learning_rate =0.001,\n",
    "                 lmbda=0.1, \n",
    "                 verbose =True):\n",
    "        \n",
    "        \"\"\" Constructor \"\"\"\n",
    "        self.verbose = verbose\n",
    "        self.learning_rate = learning_rate\n",
    "        self.lmbda = lmbda\n",
    "        self.num_components = num_components\n",
    "        \n",
    "        self.df = DataFrame\n",
    "        \n",
    "        \n",
    "        urm = pd.pivot_table(self.df[['user_id','movie_id','rating']],columns='movie_id',index='user_id',values='rating',fill_value=0)\n",
    "        self.n_users, self.n_items = urm.shape\n",
    "        self.ratings = np.float32(urm.values)\n",
    "        \n",
    "        user_index = np.arange(len(urm.index))\n",
    "        self.users = dict(zip(user_index,urm.index ))\n",
    "        self.users_id2index = dict(zip(urm.index,user_index)) \n",
    "        \n",
    "        \n",
    "        movie_index = np.arange(len(urm.columns))\n",
    "        self.movies = dict(zip(movie_index,urm.columns ))   \n",
    "        self.movies_id2index= dict(zip(urm.columns, movie_index))\n",
    "        self.movies_index2id= dict(zip(movie_index,urm.columns))\n",
    "        self.movie_id2title = dict(self.df.groupby(by=['movie_id','title']).count().index)\n",
    "        self.sample_row, self.sample_col = self.ratings.nonzero()\n",
    "        self.n_samples = len(self.sample_row)\n",
    "    \n",
    "    def __sdg__(self):\n",
    "        for idx in self.training_indices:\n",
    "            u = self.sample_row[idx]\n",
    "            i = self.sample_col[idx]\n",
    "            user_id = self.users[u]\n",
    "            item_id = self.movies[i]\n",
    "            \n",
    "            prediction = self.predict(user_id, item_id)\n",
    "            error = (self.ratings[u,i] - prediction) # error\n",
    "            \n",
    "            #Update latent factors\n",
    "            self.user_vecs[u, :] += self.learning_rate * \\\n",
    "                                    (error * self.item_vecs[i, :] - \\\n",
    "                                     self.lmbda * self.user_vecs[u,:])\n",
    "            self.item_vecs[i, :] += self.learning_rate * \\\n",
    "                                    (error * self.user_vecs[u, :] - \\\n",
    "                                     self.lmbda * self.item_vecs[i,:])\n",
    "                \n",
    "                \n",
    "    def fit(self,n_epochs = 10):\n",
    "        \"\"\" Train the model. \"\"\"\n",
    "        self.train_mse =[]\n",
    "        self.test_mse = []\n",
    "        iter_diff = 0\n",
    "        \n",
    "        # initialize latent vectors\n",
    "        self.user_vecs = 3.*np.random.normal(scale=1./self.num_components,\\\n",
    "                                          size=(self.n_users, self.num_components))\n",
    "        self.item_vecs = 3.*np.random.normal(scale=1./self.num_components,\n",
    "                                          size=(self.n_items, self.num_components))\n",
    "\n",
    "        for epoch in range(n_epochs):\n",
    "            print('Epoch: {}'.format(epoch))\n",
    "            \n",
    "            self.training_indices = np.arange(self.n_samples)\n",
    "            \n",
    "            #shuffle training samples\n",
    "            np.random.shuffle(self.training_indices)\n",
    "            self.__sdg__()\n",
    "            \n",
    "            self.train_mse.append(evaluate(self.predict,data_train,data_train))\n",
    "            self.test_mse.append(evaluate(self.predict,data_train,data_test))\n",
    "            \n",
    "            \n",
    "            print('\\tTrain mse: %s' % self.train_mse[-1])\n",
    "            print('\\tTest mse: %s' % self.test_mse[-1])\n",
    "            \n",
    "            \n",
    "        \n",
    "        if(self.verbose):\n",
    "            plt.plot(self.train_mse,'--o',label=\"train_error\")\n",
    "            plt.plot(self.test_mse,'--o',label=\"test_error\")\n",
    "            plt.legend()\n",
    "            plt.show()\n",
    "            \n",
    "            ids_to_estimate = zip(data_test.user_id, data_test.movie_id)\n",
    "            estimated = np.array([self.predict(u,i) if u in data_train.user_id else 3 for (u,i) in ids_to_estimate ])\n",
    "            real = data_test.rating.values\n",
    "            plt.plot(estimated,real,'.',alpha=0.1)\n",
    "            plt.show()\n",
    "    \n",
    "    def predict(self, user_id, movie_id):\n",
    "        \"\"\" Single user and item prediction.\"\"\"\n",
    "        user_index = self.users_id2index[user_id]\n",
    "        if movie_id in self.movies_id2index:\n",
    "            item_index = self.movies_id2index[movie_id]\n",
    "            prediction =  self.user_vecs[user_index, :].dot(self.item_vecs[item_index, :].T)\n",
    "        else:\n",
    "            prediction = 3 # this is a new movie\n",
    "        if(prediction>5):\n",
    "            return 5\n",
    "        elif(prediction<1):\n",
    "            return 1\n",
    "        return prediction\n",
    "    "
   ]
  },
  {
   "cell_type": "code",
   "execution_count": 15,
   "metadata": {},
   "outputs": [
    {
     "name": "stdout",
     "output_type": "stream",
     "text": [
      "Epoch: 0\n",
      "\tTrain mse: 1.310042838444633\n",
      "\tTest mse: 1.3269173222438273\n",
      "Epoch: 1\n",
      "\tTrain mse: 1.1300935252665854\n",
      "\tTest mse: 1.143975232484266\n",
      "Epoch: 2\n",
      "\tTrain mse: 1.1049274794290267\n",
      "\tTest mse: 1.1167400035534227\n",
      "Epoch: 3\n",
      "\tTrain mse: 1.0941892018883779\n",
      "\tTest mse: 1.1050392916621414\n",
      "Epoch: 4\n",
      "\tTrain mse: 1.0926548888703702\n",
      "\tTest mse: 1.1027715066651238\n",
      "Epoch: 5\n",
      "\tTrain mse: 1.0905086916258453\n",
      "\tTest mse: 1.1007007798836808\n",
      "Epoch: 6\n",
      "\tTrain mse: 1.0901575704254487\n",
      "\tTest mse: 1.1003483099103442\n",
      "Epoch: 7\n",
      "\tTrain mse: 1.0882435967102695\n",
      "\tTest mse: 1.0984563996839067\n",
      "Epoch: 8\n",
      "\tTrain mse: 1.0899361502278713\n",
      "\tTest mse: 1.1002715843114323\n",
      "Epoch: 9\n",
      "\tTrain mse: 1.091363174066147\n",
      "\tTest mse: 1.1014364776769536\n",
      "Epoch: 10\n",
      "\tTrain mse: 1.0899283617760749\n",
      "\tTest mse: 1.0998108239674056\n",
      "Epoch: 11\n",
      "\tTrain mse: 1.0884663291274799\n",
      "\tTest mse: 1.098663986961516\n",
      "Epoch: 12\n",
      "\tTrain mse: 1.0878876719414872\n",
      "\tTest mse: 1.0982343108648545\n",
      "Epoch: 13\n",
      "\tTrain mse: 1.0887696253851922\n",
      "\tTest mse: 1.0989358826636264\n",
      "Epoch: 14\n",
      "\tTrain mse: 1.0886896758754634\n",
      "\tTest mse: 1.0986524638655664\n"
     ]
    },
    {
     "data": {
      "image/png": "[encoded data removed]",
      "text/plain": [
       "<Figure size 432x288 with 1 Axes>"
      ]
     },
     "metadata": {
      "needs_background": "light"
     },
     "output_type": "display_data"
    },
    {
     "data": {
      "image/png": "[encoded data removed]",
      "text/plain": [
       "<Figure size 432x288 with 1 Axes>"
      ]
     },
     "metadata": {
      "needs_background": "light"
     },
     "output_type": "display_data"
    },
    {
     "name": "stdout",
     "output_type": "stream",
     "text": [
      "RMSE for Collaborative Recomender: 1.0986524638655664\n"
     ]
    }
   ],
   "source": [
    "reco = SVD_CollaborativeFiltering(data_train,num_components=5,learning_rate=0.01,lmbda=0.5)\n",
    "reco.fit(n_epochs = 15)\n",
    "print('RMSE for Collaborative Recomender: %s' % evaluate(reco.predict,data_train,data_test))"
   ]
  },
  {
   "cell_type": "code",
   "execution_count": 16,
   "metadata": {
    "scrolled": false
   },
   "outputs": [
    {
     "name": "stdout",
     "output_type": "stream",
     "text": [
      "Epoch: 0\n",
      "\tTrain mse: 1.1793837818218182\n",
      "\tTest mse: 1.2024172620494142\n",
      "Epoch: 1\n",
      "\tTrain mse: 1.0300435804887853\n",
      "\tTest mse: 1.0503022998330052\n",
      "Epoch: 2\n",
      "\tTrain mse: 1.0062275708046684\n",
      "\tTest mse: 1.024365789391161\n",
      "Epoch: 3\n",
      "\tTrain mse: 0.9997142287974103\n",
      "\tTest mse: 1.017227079554313\n",
      "Epoch: 4\n",
      "\tTrain mse: 0.9967513653645441\n",
      "\tTest mse: 1.014362919066647\n",
      "Epoch: 5\n",
      "\tTrain mse: 0.9934908208726374\n",
      "\tTest mse: 1.0108343335588286\n",
      "Epoch: 6\n",
      "\tTrain mse: 0.9915816661070053\n",
      "\tTest mse: 1.0084018472729732\n",
      "Epoch: 7\n",
      "\tTrain mse: 0.989411245280119\n",
      "\tTest mse: 1.0065228296822797\n",
      "Epoch: 8\n",
      "\tTrain mse: 0.9860264241865485\n",
      "\tTest mse: 1.0040461438591086\n",
      "Epoch: 9\n",
      "\tTrain mse: 0.981864071163888\n",
      "\tTest mse: 0.9999697769933519\n",
      "Epoch: 10\n",
      "\tTrain mse: 0.9797553021518595\n",
      "\tTest mse: 0.998059610605291\n",
      "Epoch: 11\n",
      "\tTrain mse: 0.9770872369503233\n",
      "\tTest mse: 0.9961071744626714\n",
      "Epoch: 12\n",
      "\tTrain mse: 0.9746622311546532\n",
      "\tTest mse: 0.9936720610418135\n",
      "Epoch: 13\n",
      "\tTrain mse: 0.9722390147737763\n",
      "\tTest mse: 0.9918487316949486\n",
      "Epoch: 14\n",
      "\tTrain mse: 0.9706523486178869\n",
      "\tTest mse: 0.9904458516603255\n"
     ]
    },
    {
     "data": {
      "image/png": "[encoded data removed]",
      "text/plain": [
       "<Figure size 432x288 with 1 Axes>"
      ]
     },
     "metadata": {
      "needs_background": "light"
     },
     "output_type": "display_data"
    },
    {
     "data": {
      "image/png": "[encoded data removed]",
      "text/plain": [
       "<Figure size 432x288 with 1 Axes>"
      ]
     },
     "metadata": {
      "needs_background": "light"
     },
     "output_type": "display_data"
    },
    {
     "name": "stdout",
     "output_type": "stream",
     "text": [
      "RMSE for Collaborative Recomender: 0.9904458516603255\n"
     ]
    }
   ],
   "source": [
    "reco = RecSys_MF(data_train,num_components=5,learning_rate=0.01)\n",
    "reco.fit(n_epochs = 15)\n",
    "print('RMSE for Collaborative Recomender: %s' % evaluate(reco.predict,data_train,data_test))\n"
   ]
  },
  {
   "cell_type": "code",
   "execution_count": 17,
   "metadata": {},
   "outputs": [
    {
     "name": "stdout",
     "output_type": "stream",
     "text": [
      "Epoch: 0\n",
      "\tTrain mse: 1.0604968262056493\n",
      "\tTest mse: 1.0792653277451376\n",
      "Epoch: 1\n",
      "\tTrain mse: 1.0147231289269\n",
      "\tTest mse: 1.0309371052858372\n",
      "Epoch: 2\n",
      "\tTrain mse: 1.0068526911213218\n",
      "\tTest mse: 1.0224674294125844\n",
      "Epoch: 3\n",
      "\tTrain mse: 1.0012034792761029\n",
      "\tTest mse: 1.0176554587471005\n",
      "Epoch: 4\n",
      "\tTrain mse: 0.9963738032339874\n",
      "\tTest mse: 1.0125751859585403\n",
      "Epoch: 5\n",
      "\tTrain mse: 0.991254984362413\n",
      "\tTest mse: 1.0079916081478197\n",
      "Epoch: 6\n",
      "\tTrain mse: 0.987899729113836\n",
      "\tTest mse: 1.0054179302711348\n",
      "Epoch: 7\n",
      "\tTrain mse: 0.9847120170152752\n",
      "\tTest mse: 1.002743147351024\n",
      "Epoch: 8\n",
      "\tTrain mse: 0.9825051550859403\n",
      "\tTest mse: 1.0001269177571632\n",
      "Epoch: 9\n",
      "\tTrain mse: 0.9801954836665856\n",
      "\tTest mse: 0.9977419908136745\n",
      "Epoch: 10\n",
      "\tTrain mse: 0.9799325836669912\n",
      "\tTest mse: 0.9987464482705074\n",
      "Epoch: 11\n",
      "\tTrain mse: 0.9795880973433926\n",
      "\tTest mse: 0.9980491124387204\n",
      "Epoch: 12\n",
      "\tTrain mse: 0.9742430898332499\n",
      "\tTest mse: 0.993361463525915\n",
      "Epoch: 13\n",
      "\tTrain mse: 0.9752551031098831\n",
      "\tTest mse: 0.9945791933183421\n",
      "Epoch: 14\n",
      "\tTrain mse: 0.9736952001193206\n",
      "\tTest mse: 0.9929070733798698\n"
     ]
    },
    {
     "data": {
      "image/png": "[encoded data removed]",
      "text/plain": [
       "<Figure size 432x288 with 1 Axes>"
      ]
     },
     "metadata": {
      "needs_background": "light"
     },
     "output_type": "display_data"
    },
    {
     "data": {
      "image/png": "[encoded data removed]",
      "text/plain": [
       "<Figure size 432x288 with 1 Axes>"
      ]
     },
     "metadata": {
      "needs_background": "light"
     },
     "output_type": "display_data"
    },
    {
     "name": "stdout",
     "output_type": "stream",
     "text": [
      "RMSE for Collaborative Recomender: 0.9929070733798698\n"
     ]
    }
   ],
   "source": [
    "reco = RecSys_MF(data_train,num_components=3,learning_rate=0.02)\n",
    "reco.fit(n_epochs = 15)\n",
    "print('RMSE for Collaborative Recomender: %s' % evaluate(reco.predict,data_train,data_test))"
   ]
  },
  {
   "cell_type": "code",
   "execution_count": 18,
   "metadata": {},
   "outputs": [
    {
     "name": "stdout",
     "output_type": "stream",
     "text": [
      "{364}\n"
     ]
    }
   ],
   "source": [
    "print(set(reco.df[reco.df.title=='Lion King, The (1994)'].movie_id))"
   ]
  },
  {
   "cell_type": "code",
   "execution_count": 19,
   "metadata": {},
   "outputs": [
    {
     "ename": "NameError",
     "evalue": "name 'euclidean_distances' is not defined",
     "output_type": "error",
     "traceback": [
      "\u001b[0;31m---------------------------------------------------------------------------\u001b[0m",
      "\u001b[0;31mNameError\u001b[0m                                 Traceback (most recent call last)",
      "\u001b[0;32m<ipython-input-19-e20617ccbbd1>\u001b[0m in \u001b[0;36m<module>\u001b[0;34m\u001b[0m\n\u001b[1;32m      2\u001b[0m \u001b[0mmovie_id\u001b[0m \u001b[0;34m=\u001b[0m \u001b[0;36m364\u001b[0m \u001b[0;31m#'Lion King, The (1994)'\u001b[0m\u001b[0;34m\u001b[0m\u001b[0;34m\u001b[0m\u001b[0m\n\u001b[1;32m      3\u001b[0m \u001b[0;34m\u001b[0m\u001b[0m\n\u001b[0;32m----> 4\u001b[0;31m \u001b[0mpairwise_distances\u001b[0m \u001b[0;34m=\u001b[0m \u001b[0meuclidean_distances\u001b[0m\u001b[0;34m(\u001b[0m\u001b[0mreco\u001b[0m\u001b[0;34m.\u001b[0m\u001b[0mitem_vecs\u001b[0m\u001b[0;34m,\u001b[0m \u001b[0mreco\u001b[0m\u001b[0;34m.\u001b[0m\u001b[0mitem_vecs\u001b[0m\u001b[0;34m)\u001b[0m\u001b[0;34m\u001b[0m\u001b[0;34m\u001b[0m\u001b[0m\n\u001b[0m\u001b[1;32m      5\u001b[0m [(movie_id2title[reco.movies_index2id[item]],\n\u001b[1;32m      6\u001b[0m   item) for item in np.argsort(pairwise_distances[reco.movies_id2index[movie_id]])[0:6]]\n",
      "\u001b[0;31mNameError\u001b[0m: name 'euclidean_distances' is not defined"
     ]
    }
   ],
   "source": [
    "movie_id = 1 #'Toy Story (1995)'\n",
    "movie_id = 364 #'Lion King, The (1994)'\n",
    "\n",
    "pairwise_distances = euclidean_distances(reco.item_vecs, reco.item_vecs)\n",
    "[(movie_id2title[reco.movies_index2id[item]],\n",
    "  item) for item in np.argsort(pairwise_distances[reco.movies_id2index[movie_id]])[0:6]]"
   ]
  },
  {
   "cell_type": "code",
   "execution_count": null,
   "metadata": {
    "scrolled": false
   },
   "outputs": [],
   "source": [
    "reco = RecSys_MF(data_train,num_components=100,\n",
    "                                  item_fact_reg=0.1,user_fact_reg=0.1)\n",
    "reco.fit(n_epochs = 20)\n",
    "reco.predict(user_id=2,movie_id=1)"
   ]
  },
  {
   "cell_type": "code",
   "execution_count": null,
   "metadata": {},
   "outputs": [],
   "source": [
    "reco = RecSys_MF(data_train,num_components=100,\n",
    "                                  item_fact_reg=0.5,user_fact_reg=0.5)\n",
    "reco.fit(n_epochs = 20)\n",
    "reco.predict(user_id=2,movie_id=1)"
   ]
  },
  {
   "cell_type": "code",
   "execution_count": 20,
   "metadata": {},
   "outputs": [],
   "source": [
    "from sklearn.decomposition import TruncatedSVD\n",
    "from sklearn.metrics.pairwise import cosine_similarity\n",
    "from scipy import sparse\n",
    "\n",
    "class RecSys_MF_biases:\n",
    "    \"\"\" Collaborative filtering using a custom sim(u,u'). \"\"\"\n",
    "    \n",
    "    def __init__(self,DataFrame, num_components=10, learning_rate =0.001,\n",
    "                 lmbda=0.1, \n",
    "                 verbose =True):\n",
    "        \n",
    "        \"\"\" Constructor \"\"\"\n",
    "        self.verbose = verbose\n",
    "        self.learning_rate = learning_rate\n",
    "        self.lmbda = lmbda\n",
    "        self.num_components = num_components\n",
    "        \n",
    "        self.df = DataFrame\n",
    "        \n",
    "        \n",
    "        urm = pd.pivot_table(self.df[['user_id','movie_id','rating']],columns='movie_id',index='user_id',values='rating',fill_value=0)\n",
    "        self.n_users, self.n_items = urm.shape\n",
    "        self.ratings = np.float32(urm.values)\n",
    "        \n",
    "        user_index = np.arange(len(urm.index))\n",
    "        self.users = dict(zip(user_index,urm.index ))\n",
    "        self.users_id2index = dict(zip(urm.index,user_index)) \n",
    "        \n",
    "        \n",
    "        movie_index = np.arange(len(urm.columns))\n",
    "        self.movies = dict(zip(movie_index,urm.columns ))   \n",
    "        self.movies_id2index= dict(zip(urm.columns, movie_index))\n",
    "        self.movies_index2id= dict(zip(movie_index,urm.columns))\n",
    "        self.movie_id2title = dict(self.df.groupby(by=['movie_id','title']).count().index)\n",
    "        self.sample_row, self.sample_col = self.ratings.nonzero()\n",
    "        self.n_samples = len(self.sample_row)\n",
    "        \n",
    "      \n",
    "            \n",
    "            \n",
    "    def __sdg__(self):\n",
    "        for idx in self.training_indices:\n",
    "            u = self.sample_row[idx]\n",
    "            i = self.sample_col[idx]\n",
    "            user_id = self.users[u]\n",
    "            item_id = self.movies[i]\n",
    "            \n",
    "            prediction = self.predict(user_id, item_id)\n",
    "            error = (self.ratings[u,i] - prediction) # error\n",
    "            #Update latent factors\n",
    "            self.user_vecs[u, :] += self.learning_rate * \\\n",
    "                                    (error * self.item_vecs[i, :] - self.lmbda * self.user_vecs[u,:])\n",
    "            self.item_vecs[i, :] += self.learning_rate * \\\n",
    "                                    (error * self.user_vecs[u, :] - self.lmbda * self.item_vecs[i,:])\n",
    "            \n",
    "            self.bias_item[i] += self.learning_rate * (error - self.lmbda * self.bias_item[i]) \n",
    "            self.bias_user[u] += self.learning_rate * (error - self.lmbda * self.bias_user[u]) \n",
    "            \n",
    "            #self.bias += self.learning_rate * (-error ) \n",
    "                \n",
    "    def fit(self,n_epochs = 10):\n",
    "        \"\"\" Train the model. \"\"\"\n",
    "        self.train_rmse =[]\n",
    "        self.test_rmse = []\n",
    "        iter_diff = 0\n",
    "        \n",
    "        # initialize latent vectors\n",
    "        self.user_vecs = np.random.normal(scale=1./self.num_components,\\\n",
    "                                          size=(self.n_users, self.num_components))\n",
    "        self.item_vecs = np.random.normal(scale=1./self.num_components,\n",
    "                                          size=(self.n_items, self.num_components))\n",
    "        #self.bias = -3\n",
    "        self.bias_item = np.random.normal(scale=1/self.n_items,size=(self.n_items))\n",
    "        self.bias_user = np.random.normal(scale=1/self.n_users,size=(self.n_users))\n",
    "        \n",
    "        \n",
    "        for epoch in range(n_epochs):\n",
    "    \n",
    "            print('Epoch: {}'.format(epoch))\n",
    "            \n",
    "            self.training_indices = np.arange(self.n_samples)\n",
    "            \n",
    "            #shuffle training samples\n",
    "            np.random.shuffle(self.training_indices)\n",
    "            self.__sdg__()\n",
    "            \n",
    "            self.train_rmse.append(evaluate(reco.predict,data_train,data_train))\n",
    "            self.test_rmse.append(evaluate(reco.predict,data_train,data_test))\n",
    "            \n",
    "            \n",
    "            print('\\tTrain rmse: %s' % self.train_rmse[-1])\n",
    "            print('\\tTest rmse: %s' % self.test_rmse[-1])\n",
    "            \n",
    "            \n",
    "        \n",
    "        if(self.verbose):\n",
    "            plt.plot(self.train_rmse,'--o',label=\"train_error\")\n",
    "            plt.plot(self.test_rmse,'--o',label=\"test_error\")\n",
    "            plt.legend()\n",
    "            plt.show()\n",
    "            \n",
    "            ids_to_estimate = zip(data_test.user_id, data_test.movie_id)\n",
    "            estimated = np.array([reco.predict(u,i) if u in data_train.user_id else 3 for (u,i) in ids_to_estimate ])\n",
    "            real = data_test.rating.values\n",
    "            plt.plot(estimated,real,'.',alpha=0.1)\n",
    "            plt.show()\n",
    "    \n",
    "    def predict(self, user_id, movie_id):\n",
    "        \"\"\" Single user and item prediction.\"\"\"\n",
    "        user_index = self.users_id2index[user_id]\n",
    "        if movie_id in self.movies_id2index:\n",
    "            item_index = self.movies_id2index[movie_id]\n",
    "            prediction =  3 + self.user_vecs[user_index, :].dot(self.item_vecs[item_index, :].T) + self.bias_item[item_index] + self.bias_user[user_index]\n",
    "        else:\n",
    "            prediction = 3 # this is a new movie\n",
    "        '''if(prediction>5):\n",
    "            return 5\n",
    "        elif(prediction<1):\n",
    "            return 1'''\n",
    "        return prediction\n",
    "    "
   ]
  },
  {
   "cell_type": "code",
   "execution_count": 21,
   "metadata": {
    "scrolled": false
   },
   "outputs": [
    {
     "name": "stdout",
     "output_type": "stream",
     "text": [
      "Epoch: 0\n",
      "\tTrain rmse: 0.9899964985414893\n",
      "\tTest rmse: 0.9996767800605498\n",
      "Epoch: 1\n",
      "\tTrain rmse: 0.9859144031368503\n",
      "\tTest rmse: 0.9967522892519943\n",
      "Epoch: 2\n",
      "\tTrain rmse: 0.9762877979982768\n",
      "\tTest rmse: 0.9902696685460405\n",
      "Epoch: 3\n",
      "\tTrain rmse: 0.9570750808505184\n",
      "\tTest rmse: 0.9783774559326134\n",
      "Epoch: 4\n",
      "\tTrain rmse: 0.9321018630455181\n",
      "\tTest rmse: 0.9669593050083682\n",
      "Epoch: 5\n",
      "\tTrain rmse: 0.903218083030246\n",
      "\tTest rmse: 0.958578743339581\n",
      "Epoch: 6\n",
      "\tTrain rmse: 0.8715662632022589\n",
      "\tTest rmse: 0.9536362367763528\n",
      "Epoch: 7\n",
      "\tTrain rmse: 0.8396342492667722\n",
      "\tTest rmse: 0.9533111122281371\n",
      "Epoch: 8\n",
      "\tTrain rmse: 0.8095136484774316\n",
      "\tTest rmse: 0.9554281679282774\n",
      "Epoch: 9\n",
      "\tTrain rmse: 0.7831487871243161\n",
      "\tTest rmse: 0.9595865166048172\n",
      "Epoch: 10\n",
      "\tTrain rmse: 0.7612933636810664\n",
      "\tTest rmse: 0.9645825395740132\n",
      "Epoch: 11\n",
      "\tTrain rmse: 0.7432375693305926\n",
      "\tTest rmse: 0.9697252439492675\n",
      "Epoch: 12\n",
      "\tTrain rmse: 0.7291734508198955\n",
      "\tTest rmse: 0.9746423615105173\n",
      "Epoch: 13\n",
      "\tTrain rmse: 0.7177876301155005\n",
      "\tTest rmse: 0.9794844115745982\n",
      "Epoch: 14\n",
      "\tTrain rmse: 0.7086543025438453\n",
      "\tTest rmse: 0.9834532024523162\n",
      "Epoch: 15\n",
      "\tTrain rmse: 0.7015271085664251\n",
      "\tTest rmse: 0.9868761680656186\n",
      "Epoch: 16\n",
      "\tTrain rmse: 0.6954109616268833\n",
      "\tTest rmse: 0.9902244368267626\n",
      "Epoch: 17\n",
      "\tTrain rmse: 0.6904804808946019\n",
      "\tTest rmse: 0.9930778429283044\n",
      "Epoch: 18\n",
      "\tTrain rmse: 0.6863630543569129\n",
      "\tTest rmse: 0.9953349699793157\n",
      "Epoch: 19\n",
      "\tTrain rmse: 0.6829926270268815\n",
      "\tTest rmse: 0.9974508904456181\n",
      "Epoch: 20\n",
      "\tTrain rmse: 0.6798906912849235\n",
      "\tTest rmse: 0.9995747809757657\n",
      "Epoch: 21\n",
      "\tTrain rmse: 0.6773356776463482\n",
      "\tTest rmse: 1.0013368789516597\n",
      "Epoch: 22\n",
      "\tTrain rmse: 0.6751669618268077\n",
      "\tTest rmse: 1.003014791941507\n",
      "Epoch: 23\n",
      "\tTrain rmse: 0.6733059637599307\n",
      "\tTest rmse: 1.0042406215135586\n",
      "Epoch: 24\n",
      "\tTrain rmse: 0.67150894022611\n",
      "\tTest rmse: 1.0059587566941004\n",
      "Epoch: 25\n",
      "\tTrain rmse: 0.6702500311238432\n",
      "\tTest rmse: 1.007019422482281\n",
      "Epoch: 26\n",
      "\tTrain rmse: 0.6687487596802476\n",
      "\tTest rmse: 1.007912290617296\n",
      "Epoch: 27\n",
      "\tTrain rmse: 0.6674800479358161\n",
      "\tTest rmse: 1.0090687681038144\n",
      "Epoch: 28\n",
      "\tTrain rmse: 0.6665876779899638\n",
      "\tTest rmse: 1.009848174780755\n",
      "Epoch: 29\n",
      "\tTrain rmse: 0.6656192114202221\n",
      "\tTest rmse: 1.0108248407241485\n",
      "Epoch: 30\n",
      "\tTrain rmse: 0.6647276002387459\n",
      "\tTest rmse: 1.0110595028510712\n",
      "Epoch: 31\n",
      "\tTrain rmse: 0.6640057141341771\n",
      "\tTest rmse: 1.0124105259496534\n",
      "Epoch: 32\n",
      "\tTrain rmse: 0.6631956441626641\n",
      "\tTest rmse: 1.0132096567624487\n",
      "Epoch: 33\n",
      "\tTrain rmse: 0.6625928427483494\n",
      "\tTest rmse: 1.0135992225716153\n",
      "Epoch: 34\n",
      "\tTrain rmse: 0.661832720677272\n",
      "\tTest rmse: 1.0140053700808425\n",
      "Epoch: 35\n",
      "\tTrain rmse: 0.6612873581065082\n",
      "\tTest rmse: 1.0147576913610281\n",
      "Epoch: 36\n",
      "\tTrain rmse: 0.6606490341928498\n",
      "\tTest rmse: 1.0151915924073875\n",
      "Epoch: 37\n",
      "\tTrain rmse: 0.6601979539642783\n",
      "\tTest rmse: 1.0156689279785813\n",
      "Epoch: 38\n",
      "\tTrain rmse: 0.6597234940258062\n",
      "\tTest rmse: 1.0163291941711632\n",
      "Epoch: 39\n",
      "\tTrain rmse: 0.6593745649282575\n",
      "\tTest rmse: 1.0167028747027669\n",
      "Epoch: 40\n",
      "\tTrain rmse: 0.6589029538255909\n",
      "\tTest rmse: 1.0171684706790398\n",
      "Epoch: 41\n",
      "\tTrain rmse: 0.6586311022209195\n",
      "\tTest rmse: 1.017554378371056\n",
      "Epoch: 42\n",
      "\tTrain rmse: 0.6580823454390287\n",
      "\tTest rmse: 1.0177754691458885\n",
      "Epoch: 43\n",
      "\tTrain rmse: 0.6577131326708937\n",
      "\tTest rmse: 1.01841890629839\n",
      "Epoch: 44\n",
      "\tTrain rmse: 0.6575025630588158\n",
      "\tTest rmse: 1.0185227990969417\n",
      "Epoch: 45\n",
      "\tTrain rmse: 0.6572218603698682\n",
      "\tTest rmse: 1.018756915032252\n",
      "Epoch: 46\n",
      "\tTrain rmse: 0.6570354657616425\n",
      "\tTest rmse: 1.019389733382971\n",
      "Epoch: 47\n",
      "\tTrain rmse: 0.6566575617311876\n",
      "\tTest rmse: 1.0197901761266561\n",
      "Epoch: 48\n",
      "\tTrain rmse: 0.6562709058220128\n",
      "\tTest rmse: 1.0200240879450808\n",
      "Epoch: 49\n",
      "\tTrain rmse: 0.6561144150407866\n",
      "\tTest rmse: 1.0201387898522096\n"
     ]
    },
    {
     "data": {
      "image/png": "[encoded data removed]",
      "text/plain": [
       "<Figure size 432x288 with 1 Axes>"
      ]
     },
     "metadata": {
      "needs_background": "light"
     },
     "output_type": "display_data"
    },
    {
     "data": {
      "image/png": "[encoded data removed]",
      "text/plain": [
       "<Figure size 432x288 with 1 Axes>"
      ]
     },
     "metadata": {
      "needs_background": "light"
     },
     "output_type": "display_data"
    }
   ],
   "source": [
    "reco = RecSys_MF_biases(data_train,num_components=100,learning_rate=0.02,lmbda=0.02)\n",
    "reco.fit(n_epochs = 50)"
   ]
  },
  {
   "cell_type": "code",
   "execution_count": 27,
   "metadata": {},
   "outputs": [
    {
     "name": "stdout",
     "output_type": "stream",
     "text": [
      "Epoch: 0\n",
      "\tTrain rmse: 0.992943425608282\n",
      "\tTest rmse: 1.001790686002648\n",
      "Epoch: 1\n",
      "\tTrain rmse: 0.9892504726975943\n",
      "\tTest rmse: 0.9992153702462262\n",
      "Epoch: 2\n",
      "\tTrain rmse: 0.9883368572485848\n",
      "\tTest rmse: 0.9987145312142156\n",
      "Epoch: 3\n",
      "\tTrain rmse: 0.9871764920293519\n",
      "\tTest rmse: 0.9975320664756369\n",
      "Epoch: 4\n",
      "\tTrain rmse: 0.9855033786911588\n",
      "\tTest rmse: 0.996278091402162\n",
      "Epoch: 5\n",
      "\tTrain rmse: 0.9810549033518476\n",
      "\tTest rmse: 0.9929312790190957\n",
      "Epoch: 6\n",
      "\tTrain rmse: 0.9751984610380745\n",
      "\tTest rmse: 0.9876042836551296\n",
      "Epoch: 7\n",
      "\tTrain rmse: 0.9719417902474901\n",
      "\tTest rmse: 0.9854951005266427\n",
      "Epoch: 8\n",
      "\tTrain rmse: 0.9684723740324868\n",
      "\tTest rmse: 0.9832842859587272\n",
      "Epoch: 9\n",
      "\tTrain rmse: 0.9659303368623777\n",
      "\tTest rmse: 0.9814631230981836\n",
      "Epoch: 10\n",
      "\tTrain rmse: 0.963181682328815\n",
      "\tTest rmse: 0.9795674337331529\n",
      "Epoch: 11\n",
      "\tTrain rmse: 0.9596079171969386\n",
      "\tTest rmse: 0.9772070844813223\n",
      "Epoch: 12\n",
      "\tTrain rmse: 0.9569049232643058\n",
      "\tTest rmse: 0.9751011280593755\n",
      "Epoch: 13\n",
      "\tTrain rmse: 0.9543449556973864\n",
      "\tTest rmse: 0.9738707119912686\n",
      "Epoch: 14\n",
      "\tTrain rmse: 0.9523591268374861\n",
      "\tTest rmse: 0.9729670274924926\n",
      "Epoch: 15\n",
      "\tTrain rmse: 0.9505205804670974\n",
      "\tTest rmse: 0.9715801591443515\n",
      "Epoch: 16\n",
      "\tTrain rmse: 0.9482823484649886\n",
      "\tTest rmse: 0.970088757076712\n",
      "Epoch: 17\n",
      "\tTrain rmse: 0.946424579786463\n",
      "\tTest rmse: 0.9695932873183911\n",
      "Epoch: 18\n",
      "\tTrain rmse: 0.9448467887389244\n",
      "\tTest rmse: 0.9687099164632959\n",
      "Epoch: 19\n",
      "\tTrain rmse: 0.942930094496312\n",
      "\tTest rmse: 0.9680175034780301\n",
      "Epoch: 20\n",
      "\tTrain rmse: 0.941458720976597\n",
      "\tTest rmse: 0.9671486480718099\n",
      "Epoch: 21\n",
      "\tTrain rmse: 0.9397134209357205\n",
      "\tTest rmse: 0.9658864469214493\n",
      "Epoch: 22\n",
      "\tTrain rmse: 0.9385614049267565\n",
      "\tTest rmse: 0.9661244450031065\n",
      "Epoch: 23\n",
      "\tTrain rmse: 0.9371034797086645\n",
      "\tTest rmse: 0.9654444407424744\n",
      "Epoch: 24\n",
      "\tTrain rmse: 0.9355922063170521\n",
      "\tTest rmse: 0.9649237809510617\n",
      "Epoch: 25\n",
      "\tTrain rmse: 0.9340901181250637\n",
      "\tTest rmse: 0.96443401615427\n",
      "Epoch: 26\n",
      "\tTrain rmse: 0.9327233659945272\n",
      "\tTest rmse: 0.9636122526981864\n",
      "Epoch: 27\n",
      "\tTrain rmse: 0.9319834264198023\n",
      "\tTest rmse: 0.963624189504618\n",
      "Epoch: 28\n",
      "\tTrain rmse: 0.9307956482632761\n",
      "\tTest rmse: 0.9630726317085745\n",
      "Epoch: 29\n",
      "\tTrain rmse: 0.9297993489116734\n",
      "\tTest rmse: 0.9629342499268964\n",
      "Epoch: 30\n",
      "\tTrain rmse: 0.9287955477163442\n",
      "\tTest rmse: 0.9632710698286121\n",
      "Epoch: 31\n",
      "\tTrain rmse: 0.9276825425084704\n",
      "\tTest rmse: 0.9626245952610469\n",
      "Epoch: 32\n",
      "\tTrain rmse: 0.9263278408638068\n",
      "\tTest rmse: 0.9616854060150138\n",
      "Epoch: 33\n",
      "\tTrain rmse: 0.9259554837640873\n",
      "\tTest rmse: 0.9624930965278812\n",
      "Epoch: 34\n",
      "\tTrain rmse: 0.92472626731901\n",
      "\tTest rmse: 0.9619949460676276\n",
      "Epoch: 35\n",
      "\tTrain rmse: 0.9236590268436093\n",
      "\tTest rmse: 0.9615594535264756\n",
      "Epoch: 36\n",
      "\tTrain rmse: 0.9225858854176688\n",
      "\tTest rmse: 0.9614436944080037\n",
      "Epoch: 37\n",
      "\tTrain rmse: 0.9221229838787708\n",
      "\tTest rmse: 0.961653820284715\n",
      "Epoch: 38\n",
      "\tTrain rmse: 0.9208660278261219\n",
      "\tTest rmse: 0.9610940469495318\n",
      "Epoch: 39\n",
      "\tTrain rmse: 0.9204916002102067\n",
      "\tTest rmse: 0.9611187454364941\n",
      "Epoch: 40\n",
      "\tTrain rmse: 0.9196492194334913\n",
      "\tTest rmse: 0.9612656502304253\n",
      "Epoch: 41\n",
      "\tTrain rmse: 0.9187818575481247\n",
      "\tTest rmse: 0.9609434062665451\n",
      "Epoch: 42\n",
      "\tTrain rmse: 0.9181226348752369\n",
      "\tTest rmse: 0.9610022276297374\n",
      "Epoch: 43\n",
      "\tTrain rmse: 0.9170656771603931\n",
      "\tTest rmse: 0.9610767424668052\n",
      "Epoch: 44\n",
      "\tTrain rmse: 0.9164025594168196\n",
      "\tTest rmse: 0.9605894927990387\n",
      "Epoch: 45\n",
      "\tTrain rmse: 0.9160010673638265\n",
      "\tTest rmse: 0.9608624368996498\n",
      "Epoch: 46\n",
      "\tTrain rmse: 0.9151252524933022\n",
      "\tTest rmse: 0.9602760334778583\n",
      "Epoch: 47\n",
      "\tTrain rmse: 0.9144034387721192\n",
      "\tTest rmse: 0.9602771399326794\n",
      "Epoch: 48\n",
      "\tTrain rmse: 0.9134041494599621\n",
      "\tTest rmse: 0.9601581600382301\n",
      "Epoch: 49\n",
      "\tTrain rmse: 0.9127861600622362\n",
      "\tTest rmse: 0.9603580893365364\n"
     ]
    },
    {
     "data": {
      "image/png": "[encoded data removed]",
      "text/plain": [
       "<Figure size 432x288 with 1 Axes>"
      ]
     },
     "metadata": {
      "needs_background": "light"
     },
     "output_type": "display_data"
    },
    {
     "data": {
      "image/png": "[encoded data removed]",
      "text/plain": [
       "<Figure size 432x288 with 1 Axes>"
      ]
     },
     "metadata": {
      "needs_background": "light"
     },
     "output_type": "display_data"
    }
   ],
   "source": [
    "reco = RecSys_MF_biases(data_train,num_components=100,learning_rate=0.02,lmbda=0.1)\n",
    "reco.fit(n_epochs = 50)"
   ]
  },
  {
   "cell_type": "code",
   "execution_count": 23,
   "metadata": {},
   "outputs": [
    {
     "data": {
      "text/plain": [
       "array([1212, 1220, 1372, ..., 2007, 2687,   51])"
      ]
     },
     "execution_count": 23,
     "metadata": {},
     "output_type": "execute_result"
    }
   ],
   "source": [
    "np.argsort(reco.bias_item)"
   ]
  },
  {
   "cell_type": "code",
   "execution_count": 24,
   "metadata": {},
   "outputs": [
    {
     "ename": "NameError",
     "evalue": "name 'euclidean_distances' is not defined",
     "output_type": "error",
     "traceback": [
      "\u001b[0;31m---------------------------------------------------------------------------\u001b[0m",
      "\u001b[0;31mNameError\u001b[0m                                 Traceback (most recent call last)",
      "\u001b[0;32m<ipython-input-24-d5434c779398>\u001b[0m in \u001b[0;36m<module>\u001b[0;34m\u001b[0m\n\u001b[1;32m      2\u001b[0m \u001b[0mmovie_id\u001b[0m \u001b[0;34m=\u001b[0m \u001b[0;36m364\u001b[0m \u001b[0;31m#'Lion King, The (1994)'\u001b[0m\u001b[0;34m\u001b[0m\u001b[0;34m\u001b[0m\u001b[0m\n\u001b[1;32m      3\u001b[0m \u001b[0;34m\u001b[0m\u001b[0m\n\u001b[0;32m----> 4\u001b[0;31m \u001b[0mpairwise_distances\u001b[0m \u001b[0;34m=\u001b[0m \u001b[0meuclidean_distances\u001b[0m\u001b[0;34m(\u001b[0m\u001b[0mreco\u001b[0m\u001b[0;34m.\u001b[0m\u001b[0mitem_vecs\u001b[0m\u001b[0;34m,\u001b[0m \u001b[0mreco\u001b[0m\u001b[0;34m.\u001b[0m\u001b[0mitem_vecs\u001b[0m\u001b[0;34m)\u001b[0m\u001b[0;34m\u001b[0m\u001b[0;34m\u001b[0m\u001b[0m\n\u001b[0m\u001b[1;32m      5\u001b[0m [(reco.movie_id2title[reco.movies_index2id[item]],\n\u001b[1;32m      6\u001b[0m   item) for item in np.argsort(pairwise_distances[reco.movies_id2index[movie_id]])[0:6]]\n",
      "\u001b[0;31mNameError\u001b[0m: name 'euclidean_distances' is not defined"
     ]
    }
   ],
   "source": [
    "movie_id = 1 #'Toy Story (1995)'\n",
    "movie_id = 364 #'Lion King, The (1994)'\n",
    "\n",
    "pairwise_distances = euclidean_distances(reco.item_vecs, reco.item_vecs)\n",
    "[(reco.movie_id2title[reco.movies_index2id[item]],\n",
    "  item) for item in np.argsort(pairwise_distances[reco.movies_id2index[movie_id]])[0:6]]"
   ]
  },
  {
   "cell_type": "code",
   "execution_count": null,
   "metadata": {},
   "outputs": [],
   "source": [
    "i = 645\n",
    "print(reco.bias_item[i],movie_id2title[reco.movies_index2id[i]])\n",
    "print(np.mean(reco.df[reco.df.movie_id==reco.movies_index2id[i]].rating))"
   ]
  },
  {
   "cell_type": "code",
   "execution_count": null,
   "metadata": {},
   "outputs": [],
   "source": [
    "np.mean(reco.df[reco.df.movie_id==reco.movies_index2id[i]].rating)"
   ]
  },
  {
   "cell_type": "code",
   "execution_count": null,
   "metadata": {},
   "outputs": [],
   "source": []
  },
  {
   "cell_type": "code",
   "execution_count": null,
   "metadata": {},
   "outputs": [],
   "source": []
  },
  {
   "cell_type": "code",
   "execution_count": null,
   "metadata": {},
   "outputs": [],
   "source": []
  }
 ],
 "metadata": {
  "kernelspec": {
   "display_name": "Python 3",
   "language": "python",
   "name": "python3"
  },
  "language_info": {
   "codemirror_mode": {
    "name": "ipython",
    "version": 3
   },
   "file_extension": ".py",
   "mimetype": "text/x-python",
   "name": "python",
   "nbconvert_exporter": "python",
   "pygments_lexer": "ipython3",
   "version": "3.8.3"
  }
 },
 "nbformat": 4,
 "nbformat_minor": 2
}
