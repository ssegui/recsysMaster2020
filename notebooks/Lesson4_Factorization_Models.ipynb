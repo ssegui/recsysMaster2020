{
 "cells": [
  {
   "cell_type": "markdown",
   "metadata": {},
   "source": [
    "## Lesson 3: Collaborative-based recommender systems: Factorization\n",
    "\n",
    "https://www.kaggle.com/prashant111/recommender-systems-in-python\n",
    "\n",
    "https://towardsdatascience.com/recsys-series-part-4-the-7-variants-of-matrix-factorization-for-collaborative-filtering-368754e4fab5\n",
    "\n",
    "https://heartbeat.fritz.ai/recommender-systems-with-python-part-iii-collaborative-filtering-singular-value-decomposition-5b5dcb3f242b"
   ]
  },
  {
   "cell_type": "code",
   "execution_count": 1,
   "metadata": {},
   "outputs": [],
   "source": [
    "def evaluate(predict_f,data_train,data_test):\n",
    "    \"\"\" RMSE-based predictive performance evaluation with pandas. \"\"\"\n",
    "    ids_to_estimate = zip(data_test.user_id, data_test.movie_id)\n",
    "    estimated = np.array([predict_f(u,i) if u in data_train.user_id else 3 for (u,i) in ids_to_estimate ])\n",
    "    real = data_test.rating.values\n",
    "    return compute_rmse(estimated, real)\n",
    "\n",
    "def compute_rmse(y_pred, y_true):\n",
    "    \"\"\" Compute Root Mean Squared Error. \"\"\"\n",
    "    return np.sqrt(np.mean(np.power(y_pred - y_true, 2)))\n",
    "\n",
    "\n",
    "## Divide the data in two sets: training and test\n",
    "def assign_to_set(df):\n",
    "    sampled_ids = np.random.choice(df.index,\n",
    "                                   size=np.int64(np.ceil(df.index.size * 0.2)),\n",
    "                                   replace=False)\n",
    "    df.loc[sampled_ids, 'for_testing'] = True\n",
    "    return df"
   ]
  },
  {
   "cell_type": "code",
   "execution_count": 2,
   "metadata": {},
   "outputs": [
    {
     "data": {
      "application/javascript": [
       "IPython.notebook.set_autosave_interval(150000)"
      ]
     },
     "metadata": {},
     "output_type": "display_data"
    },
    {
     "name": "stdout",
     "output_type": "stream",
     "text": [
      "Autosaving every 150 seconds\n",
      "Full DB has 1000209 ratings\n",
      "Full DB has  6040  users\n",
      "Full DB has  3706  movies\n",
      "Training data_set has 797758 ratings\n",
      "Test data set has 202451 ratings\n"
     ]
    }
   ],
   "source": [
    "#NETFLIX REAL 50.000.000 usuaris and 100.000 items\n",
    "%autosave 150\n",
    "%matplotlib inline\n",
    "import pandas as pd\n",
    "import numpy as np\n",
    "import math\n",
    "import matplotlib.pylab as plt\n",
    "\n",
    "# Load Data set\n",
    "u_cols = ['user_id', 'age', 'sex', 'occupation', 'zip_code']\n",
    "users = pd.read_csv('../data/ml-1m/users.dat', sep='::', names=u_cols, engine='python')\n",
    "\n",
    "r_cols = ['user_id', 'movie_id', 'rating', 'unix_timestamp']\n",
    "ratings = pd.read_csv('../data/ml-1m/ratings.dat', sep='::', names=r_cols, engine='python')\n",
    "\n",
    "# the movies file contains columns indicating the movie's genres\n",
    "# let's only load the first three columns of the file with usecols\n",
    "m_cols = ['movie_id', 'title', 'release_date']\n",
    "movies = pd.read_csv('../data/ml-1m/movies.dat', sep='::', names=m_cols, usecols=range(3), encoding='latin-1', engine='python')\n",
    "\n",
    "# Construcció del DataFrame\n",
    "data = pd.merge(pd.merge(ratings, users), movies)\n",
    "data = data[['user_id','title', 'movie_id','rating','release_date','sex','age']]\n",
    "\n",
    "\n",
    "print(\"Full DB has \"+ str(data.shape[0]) +\" ratings\")\n",
    "print(\"Full DB has \", data.user_id.nunique(),\" users\")\n",
    "print(\"Full DB has \", data.movie_id.nunique(), \" movies\")\n",
    "data.head()\n",
    "\n",
    "\n",
    "## DIVIDE THE DATA INTO TRAINING AND TEST SET\n",
    "data['for_testing'] = False\n",
    "grouped = data.groupby('user_id', group_keys=False).apply(assign_to_set)\n",
    "data_train = data[grouped.for_testing == False]\n",
    "data_test = data[grouped.for_testing == True]\n",
    "\n",
    "\n",
    "print(\"Training data_set has \"+ str(data_train.shape[0]) +\" ratings\")\n",
    "print(\"Test data set has \"+ str(data_test.shape[0]) +\" ratings\")"
   ]
  },
  {
   "cell_type": "code",
   "execution_count": 3,
   "metadata": {},
   "outputs": [
    {
     "data": {
      "image/png": "[encoded data removed]",
      "text/plain": [
       "<Figure size 432x288 with 1 Axes>"
      ]
     },
     "metadata": {
      "needs_background": "light"
     },
     "output_type": "display_data"
    }
   ],
   "source": [
    "plt.hist(data.rating,bins=5)\n",
    "plt.show()"
   ]
  },
  {
   "cell_type": "code",
   "execution_count": 4,
   "metadata": {},
   "outputs": [
    {
     "data": {
      "text/html": [
       "<div>\n",
       "<style scoped>\n",
       "    .dataframe tbody tr th:only-of-type {\n",
       "        vertical-align: middle;\n",
       "    }\n",
       "\n",
       "    .dataframe tbody tr th {\n",
       "        vertical-align: top;\n",
       "    }\n",
       "\n",
       "    .dataframe thead th {\n",
       "        text-align: right;\n",
       "    }\n",
       "</style>\n",
       "<table border=\"1\" class=\"dataframe\">\n",
       "  <thead>\n",
       "    <tr style=\"text-align: right;\">\n",
       "      <th></th>\n",
       "      <th>user_id</th>\n",
       "      <th>title</th>\n",
       "      <th>movie_id</th>\n",
       "      <th>release_date</th>\n",
       "      <th>sex</th>\n",
       "      <th>age</th>\n",
       "      <th>for_testing</th>\n",
       "    </tr>\n",
       "    <tr>\n",
       "      <th>rating</th>\n",
       "      <th></th>\n",
       "      <th></th>\n",
       "      <th></th>\n",
       "      <th></th>\n",
       "      <th></th>\n",
       "      <th></th>\n",
       "      <th></th>\n",
       "    </tr>\n",
       "  </thead>\n",
       "  <tbody>\n",
       "    <tr>\n",
       "      <th>1</th>\n",
       "      <td>56174</td>\n",
       "      <td>56174</td>\n",
       "      <td>56174</td>\n",
       "      <td>56174</td>\n",
       "      <td>56174</td>\n",
       "      <td>56174</td>\n",
       "      <td>56174</td>\n",
       "    </tr>\n",
       "    <tr>\n",
       "      <th>2</th>\n",
       "      <td>107557</td>\n",
       "      <td>107557</td>\n",
       "      <td>107557</td>\n",
       "      <td>107557</td>\n",
       "      <td>107557</td>\n",
       "      <td>107557</td>\n",
       "      <td>107557</td>\n",
       "    </tr>\n",
       "    <tr>\n",
       "      <th>3</th>\n",
       "      <td>261197</td>\n",
       "      <td>261197</td>\n",
       "      <td>261197</td>\n",
       "      <td>261197</td>\n",
       "      <td>261197</td>\n",
       "      <td>261197</td>\n",
       "      <td>261197</td>\n",
       "    </tr>\n",
       "    <tr>\n",
       "      <th>4</th>\n",
       "      <td>348971</td>\n",
       "      <td>348971</td>\n",
       "      <td>348971</td>\n",
       "      <td>348971</td>\n",
       "      <td>348971</td>\n",
       "      <td>348971</td>\n",
       "      <td>348971</td>\n",
       "    </tr>\n",
       "    <tr>\n",
       "      <th>5</th>\n",
       "      <td>226310</td>\n",
       "      <td>226310</td>\n",
       "      <td>226310</td>\n",
       "      <td>226310</td>\n",
       "      <td>226310</td>\n",
       "      <td>226310</td>\n",
       "      <td>226310</td>\n",
       "    </tr>\n",
       "  </tbody>\n",
       "</table>\n",
       "</div>"
      ],
      "text/plain": [
       "        user_id   title  movie_id  release_date     sex     age  for_testing\n",
       "rating                                                                      \n",
       "1         56174   56174     56174         56174   56174   56174        56174\n",
       "2        107557  107557    107557        107557  107557  107557       107557\n",
       "3        261197  261197    261197        261197  261197  261197       261197\n",
       "4        348971  348971    348971        348971  348971  348971       348971\n",
       "5        226310  226310    226310        226310  226310  226310       226310"
      ]
     },
     "execution_count": 4,
     "metadata": {},
     "output_type": "execute_result"
    }
   ],
   "source": [
    "data.groupby(by='rating').count()"
   ]
  },
  {
   "cell_type": "markdown",
   "metadata": {},
   "source": [
    "## MATRIX FACTORIZATION \n",
    "\n",
    "Matrix factorization algorithms work by decomposing the user-item interaction matrix (R) into the product of two lower dimensionality rectangular matrices.\n",
    "\n",
    "![alt factorization models](https://miro.medium.com/max/988/1*nIVWl2ROaxOY23hHajkTTg.png)\n",
    "\n",
    "These methods became really popular due to the shown efficiency in the Netflix Prize Challenge. \n",
    "\n",
    "There are several variants of these methods:\n",
    "* SVD \n",
    "* Vanilla Factorization Matrix (also knwon as Funk SVD)\n",
    "* Vanilla Factorization Matrix with biases \n",
    "\n",
    "### SVD Decomposition\n",
    "\n",
    "Singular Value Decomposition (SVD) is a well established technique for identifying latent semantic factors. Done by factorizing the user-item rating matrix.\n",
    "\n",
    "The singular value decomposition is a methods that decomposes a matrix into three other matrices as given below:\n",
    "$$ R = USV^T$$\n",
    "\n",
    "Where\n",
    "* $R$ is a $m\\times n$ rating matrix;\n",
    "* $U$ is a $m\\times k$ orthogonal left singular matrix, which represents the relationship between users and latent factors and it is known user latent matrix;\n",
    "* $S$ is a $r\\times r$ diagonal matrix, whcih describes the strengh of each latent factor, and;\n",
    "* $V$ is a $n \\times k$ orthogonal right singular matrix, which represents the relationship between items and latent factors and it is known item latent matrix.\n",
    "\n",
    "\n",
    "\n",
    "Columns of U and V are constrained to be mutually orthogonal. \n",
    "\n",
    "Mutual orthogonality has the advantage that the concepts can be completely independent of one another. Can be interpre\n",
    "ted in scatterplots\n",
    "\n",
    "**Problem**: $R$ matrix needs to be complete in order to be decomposed\n",
    "* Solution: fill missing values with the mean rating of the user"
   ]
  },
  {
   "cell_type": "code",
   "execution_count": 62,
   "metadata": {},
   "outputs": [],
   "source": [
    "from scipy import sparse\n",
    "from scipy.linalg import sqrtm\n",
    "\n",
    "class RecSys_mf():\n",
    "    \"\"\" Collaborative filtering using SVD. \"\"\"\n",
    "    \n",
    "    def __init__(self,df, num_components=10):\n",
    "        \"\"\" Constructor \"\"\"\n",
    "        self.num_components=num_components\n",
    "        self.train = pd.pivot_table(df[['user_id','movie_id','rating']],columns='movie_id',index='user_id',values='rating')\n",
    "        \n",
    "        user_index = np.arange(len(self.train.index))\n",
    "        self.users = dict(zip(user_index,self.train.index ))\n",
    "        self.users_id2index = dict(zip(self.train.index,user_index)) \n",
    "        \n",
    "        movie_index = np.arange(len(self.train.columns))\n",
    "        self.movies = dict(zip(movie_index,self.train.columns )) \n",
    "        self.movies_id2index= dict(zip(self.train.columns, movie_index))\n",
    "        self.movies_index2id= dict(zip(movie_index,self.train.columns))\n",
    "        self.movie_id2title = dict(df.groupby(by=['movie_id','title']).count().index)\n",
    "        \n",
    "        \n",
    "    def fit(self):\n",
    "        \"\"\" Prepare data structures for estimation. Similarity matrix for users \"\"\"\n",
    "        train_matrix = np.array(self.train)\n",
    "        # we mask those nan value to fill with the mean \n",
    "        mask = np.isnan(train_matrix)\n",
    "        masked_arr = np.ma.masked_array(train_matrix, mask)\n",
    "        item_means = np.mean(masked_arr, axis=0)\n",
    "\n",
    "        # nan entries will replaced by the average rating for each item\n",
    "        train_matrix = masked_arr.filled(item_means)\n",
    "        x = np.tile(item_means, (train_matrix.shape[0],1))         \n",
    "\n",
    "        # we remove the per item average from all entries.\n",
    "        # the above mentioned nan entries will be essentially zero now\n",
    "        train_matrix = train_matrix - x\n",
    "        U, s, V = np.linalg.svd(train_matrix, full_matrices=False)\n",
    "\n",
    "        # reconstruct rating matix\n",
    "        S = np.diag(s[0:self.num_components])\n",
    "        U = U[:,0:self.num_components]\n",
    "        V = V[0:self.num_components,:]\n",
    "        S_root = sqrtm(S)\n",
    "\n",
    "        USk=np.dot(U,S_root)\n",
    "        SkV=np.dot(S_root,V)\n",
    "        Y_hat = np.dot(USk, SkV)\n",
    "        self.Y_hat = Y_hat + x\n",
    "        \n",
    "    def predict(self, user_id, movie_id):\n",
    "        if movie_id in self.movies_id2index:\n",
    "            return self.Y_hat[self.users_id2index[user_id],self.movies_id2index[movie_id]]\n",
    "        else: # in case it is a new movie \n",
    "            return 3"
   ]
  },
  {
   "cell_type": "code",
   "execution_count": 63,
   "metadata": {},
   "outputs": [
    {
     "name": "stdout",
     "output_type": "stream",
     "text": [
      "RMSE for Collaborative Recomender: 0.9983861143351299\n"
     ]
    }
   ],
   "source": [
    "reco = RecSys_mf(data_train,num_components=30)\n",
    "reco.fit()\n",
    "print('RMSE for Collaborative Recomender: %s' % evaluate(reco.predict,data_train,data_test))"
   ]
  },
  {
   "cell_type": "markdown",
   "metadata": {},
   "source": [
    "### The Vanilla Matrix Factorization Model \n",
    "* Also know as **Funk SVD**\n",
    "* * Despite its name, in Funk SVD, no singular value decomposition is applied.\n",
    "* * https://sifter.org/simon/journal/20061211.html\n",
    "\n",
    "A straightforward matrix factorization model maps both users and items to a joint latent factor space of dimensionality D. User-item interaction are modeled as inner products in that space\n",
    "$$R = UV$$\n",
    "\n",
    "Each item j is associated with a vector $v_j$ from $V$, and each user $i$ is associated with a vecor $u_i$ from $U$.\n",
    "The resulting dot product $u_i\\cdot v_j$ captures the interaction between the user $i$ and item $j$:\n",
    "$$ \\hat{r} = u_i\\cdot v_j$$\n",
    "\n",
    "The goal of the matrix factorization consist on finding the mapping of each item and user to factors $u_i$ and $v_j$. To do so, the minimization the of squarred error function is performed:\n",
    "$$ \\sum(R_{ui} - u_i\\cdot v_j)^2$$\n",
    "\n",
    "This factorization can be learnt using **only those known ratings**. We do not need to infer missing values."
   ]
  },
  {
   "cell_type": "markdown",
   "metadata": {},
   "source": [
    "![alt Amazon](https://miro.medium.com/max/4800/1*b4M7o7W8bfRRxdMxtFoVBQ.png)"
   ]
  },
  {
   "cell_type": "code",
   "execution_count": 7,
   "metadata": {},
   "outputs": [],
   "source": [
    "from scipy import sparse\n",
    "\n",
    "class RecSys_vanilla_mf(RecSys_mf):\n",
    "    \"\"\" Collaborative filtering using a custom sim(u,u'). \"\"\"\n",
    "\n",
    "    def __sdg__(self):\n",
    "        for idx in self.training_indices:\n",
    "            u = self.sample_row[idx]\n",
    "            i = self.sample_col[idx]\n",
    "            user_id = self.users[u]\n",
    "            item_id = self.movies[i]\n",
    "            \n",
    "            prediction = self.predict(user_id, item_id)\n",
    "            error = (self.ratings[u,i] - prediction) # error\n",
    "            \n",
    "            #Update latent factors\n",
    "            self.user_vecs[u, :] += self.learning_rate * \\\n",
    "                                    (error * self.item_vecs[i, :] - \\\n",
    "                                     self.lmbda * self.user_vecs[u,:])\n",
    "            self.item_vecs[i, :] += self.learning_rate * \\\n",
    "                                    (error * self.user_vecs[u, :] - \\\n",
    "                                     self.lmbda * self.item_vecs[i,:])\n",
    "                \n",
    "                \n",
    "    def fit(self,n_epochs = 10,learning_rate =0.001,lmbda=0.1,verbose =True):\n",
    "        \"\"\" Train the model. \"\"\"\n",
    "        self.verbose = verbose\n",
    "        self.learning_rate = learning_rate\n",
    "        self.lmbda = lmbda\n",
    "        \n",
    "        self.ratings = np.float32(self.train.fillna(0).values)\n",
    "        self.n_users, self.n_items = self.train.shape\n",
    "        self.sample_row, self.sample_col = self.ratings.nonzero()\n",
    "        self.n_samples = len(self.sample_row)\n",
    "        \n",
    "        self.train_rmse =[]\n",
    "        self.test_rmse = []\n",
    "        iter_diff = 0\n",
    "        \n",
    "        # initialize latent vectors\n",
    "        self.user_vecs = 3.*np.random.normal(scale=1./self.num_components,\\\n",
    "                                          size=(self.n_users, self.num_components))\n",
    "        self.item_vecs = 3.*np.random.normal(scale=1./self.num_components,\n",
    "                                          size=(self.n_items, self.num_components))\n",
    "\n",
    "        for epoch in range(n_epochs):\n",
    "            print('Epoch: {}'.format(epoch))\n",
    "            \n",
    "            self.training_indices = np.arange(self.n_samples)\n",
    "            \n",
    "            #shuffle training samples\n",
    "            np.random.shuffle(self.training_indices)\n",
    "            self.__sdg__()\n",
    "            \n",
    "            self.train_rmse.append(evaluate(self.predict,data_train,data_train))\n",
    "            self.test_rmse.append(evaluate(self.predict,data_train,data_test))\n",
    "            \n",
    "            \n",
    "            print('\\tTrain rmse: %s' % self.train_rmse[-1])\n",
    "            print('\\tTest rmse: %s' % self.test_rmse[-1])\n",
    "            \n",
    "        \n",
    "        if(self.verbose):\n",
    "            self.__plot_learning_curves__()\n",
    "    \n",
    "    def __plot_learning_curves__(self):\n",
    "        plt.plot(self.train_rmse,'--o',label=\"train_error\")\n",
    "        plt.plot(self.test_rmse,'--o',label=\"test_error\")\n",
    "        plt.legend()\n",
    "        plt.show()\n",
    "        \n",
    "    def predict(self, user_id, movie_id):\n",
    "        \"\"\" Single user and item prediction.\"\"\"\n",
    "        user_index = self.users_id2index[user_id]\n",
    "        if movie_id in self.movies_id2index:\n",
    "            item_index = self.movies_id2index[movie_id]\n",
    "            prediction =  self.user_vecs[user_index, :].dot(self.item_vecs[item_index, :].T)\n",
    "        else:\n",
    "            prediction = 3 # this is a new movie\n",
    "        if(prediction>5): # clip the result\n",
    "            return 5\n",
    "        elif(prediction<1):\n",
    "            return 1\n",
    "        return prediction\n",
    "    "
   ]
  },
  {
   "cell_type": "code",
   "execution_count": 8,
   "metadata": {},
   "outputs": [
    {
     "name": "stdout",
     "output_type": "stream",
     "text": [
      "Epoch: 0\n",
      "\tTrain rmse: 1.3221481738228462\n",
      "\tTest rmse: 1.337599864679777\n",
      "Epoch: 1\n",
      "\tTrain rmse: 1.131880745892883\n",
      "\tTest rmse: 1.144533739207827\n",
      "Epoch: 2\n",
      "\tTrain rmse: 1.1036373177910865\n",
      "\tTest rmse: 1.1133999958929706\n",
      "Epoch: 3\n",
      "\tTrain rmse: 1.0934572008248704\n",
      "\tTest rmse: 1.102597568533063\n",
      "Epoch: 4\n",
      "\tTrain rmse: 1.0915768273739634\n",
      "\tTest rmse: 1.0999030907807639\n"
     ]
    },
    {
     "data": {
      "image/png": "[encoded data removed]",
      "text/plain": [
       "<Figure size 432x288 with 1 Axes>"
      ]
     },
     "metadata": {
      "needs_background": "light"
     },
     "output_type": "display_data"
    },
    {
     "name": "stdout",
     "output_type": "stream",
     "text": [
      "RMSE for Collaborative Recomender: 1.0999030907807639\n"
     ]
    }
   ],
   "source": [
    "reco = RecSys_vanilla_mf(data_train,num_components=5)\n",
    "reco.fit(n_epochs = 5,learning_rate=0.01,lmbda=0.5)\n",
    "print('RMSE for Collaborative Recomender: %s' % evaluate(reco.predict,data_train,data_test))"
   ]
  },
  {
   "cell_type": "code",
   "execution_count": 9,
   "metadata": {},
   "outputs": [
    {
     "name": "stdout",
     "output_type": "stream",
     "text": [
      "Epoch: 0\n",
      "\tTrain rmse: 1.1666797019867565\n",
      "\tTest rmse: 1.1874929479832705\n",
      "Epoch: 1\n",
      "\tTrain rmse: 1.0272461055864301\n",
      "\tTest rmse: 1.0442403425117173\n",
      "Epoch: 2\n",
      "\tTrain rmse: 1.0041219963362216\n",
      "\tTest rmse: 1.0188213012018217\n",
      "Epoch: 3\n",
      "\tTrain rmse: 0.9963078965194427\n",
      "\tTest rmse: 1.0104332076272013\n",
      "Epoch: 4\n",
      "\tTrain rmse: 0.991265406518838\n",
      "\tTest rmse: 1.0050457911896855\n"
     ]
    },
    {
     "data": {
      "image/png": "[encoded data removed]",
      "text/plain": [
       "<Figure size 432x288 with 1 Axes>"
      ]
     },
     "metadata": {
      "needs_background": "light"
     },
     "output_type": "display_data"
    },
    {
     "name": "stdout",
     "output_type": "stream",
     "text": [
      "RMSE for Collaborative Recomender: 1.0050457911896855\n"
     ]
    }
   ],
   "source": [
    "reco = RecSys_vanilla_mf(data_train,num_components=5)\n",
    "reco.fit(n_epochs = 5,learning_rate=0.01)\n",
    "print('RMSE for Collaborative Recomender: %s' % evaluate(reco.predict,data_train,data_test))"
   ]
  },
  {
   "cell_type": "code",
   "execution_count": 10,
   "metadata": {},
   "outputs": [
    {
     "name": "stdout",
     "output_type": "stream",
     "text": [
      "Epoch: 0\n",
      "\tTrain rmse: 1.0387646660724312\n",
      "\tTest rmse: 1.0550995281762026\n",
      "Epoch: 1\n",
      "\tTrain rmse: 1.0066212106789665\n",
      "\tTest rmse: 1.0208947112328406\n",
      "Epoch: 2\n",
      "\tTrain rmse: 1.0001070389026212\n",
      "\tTest rmse: 1.0138785826820769\n",
      "Epoch: 3\n",
      "\tTrain rmse: 0.9908258002088102\n",
      "\tTest rmse: 1.0057587469916756\n",
      "Epoch: 4\n",
      "\tTrain rmse: 0.986347920516114\n",
      "\tTest rmse: 1.0017024559120862\n",
      "Epoch: 5\n",
      "\tTrain rmse: 0.9820084481229016\n",
      "\tTest rmse: 0.9976327893820701\n",
      "Epoch: 6\n",
      "\tTrain rmse: 0.977015513941032\n",
      "\tTest rmse: 0.9925306496338409\n",
      "Epoch: 7\n",
      "\tTrain rmse: 0.9744856749931141\n",
      "\tTest rmse: 0.9917427377230865\n",
      "Epoch: 8\n",
      "\tTrain rmse: 0.9733873892383832\n",
      "\tTest rmse: 0.9906033031239377\n",
      "Epoch: 9\n",
      "\tTrain rmse: 0.9709115672855023\n",
      "\tTest rmse: 0.9884040167246635\n",
      "Epoch: 10\n",
      "\tTrain rmse: 0.9702473778020458\n",
      "\tTest rmse: 0.9888471705645735\n",
      "Epoch: 11\n",
      "\tTrain rmse: 0.9701760550836835\n",
      "\tTest rmse: 0.9882594968955473\n",
      "Epoch: 12\n",
      "\tTrain rmse: 0.9671061945003752\n",
      "\tTest rmse: 0.9870158326172159\n",
      "Epoch: 13\n",
      "\tTrain rmse: 0.9656706875347185\n",
      "\tTest rmse: 0.9844631745028468\n",
      "Epoch: 14\n",
      "\tTrain rmse: 0.9626895451409437\n",
      "\tTest rmse: 0.9828043654024506\n"
     ]
    },
    {
     "data": {
      "image/png": "[encoded data removed]",
      "text/plain": [
       "<Figure size 432x288 with 1 Axes>"
      ]
     },
     "metadata": {
      "needs_background": "light"
     },
     "output_type": "display_data"
    },
    {
     "name": "stdout",
     "output_type": "stream",
     "text": [
      "RMSE for Collaborative Recomender: 0.9828043654024506\n"
     ]
    }
   ],
   "source": [
    "reco = RecSys_vanilla_mf(data_train,num_components=5)\n",
    "reco.fit(n_epochs = 15,learning_rate=0.02)\n",
    "print('RMSE for Collaborative Recomender: %s' % evaluate(reco.predict,data_train,data_test))"
   ]
  },
  {
   "cell_type": "code",
   "execution_count": 11,
   "metadata": {},
   "outputs": [
    {
     "data": {
      "text/plain": [
       "[('Lion King, The (1994)', 354),\n",
       " ('Rudy (1993)', 510),\n",
       " ('Mr. Mom (1983)', 3325),\n",
       " ('Karate Kid, The (1984)', 2206),\n",
       " ('Crimson Tide (1995)', 155),\n",
       " ('American President, The (1995)', 10)]"
      ]
     },
     "execution_count": 11,
     "metadata": {},
     "output_type": "execute_result"
    }
   ],
   "source": [
    "from sklearn.metrics.pairwise import euclidean_distances\n",
    "movie_id = 1 #'Toy Story (1995)'\n",
    "movie_id = 364 #'Lion King, The (1994)'\n",
    "\n",
    "pairwise_distances = euclidean_distances(reco.item_vecs, reco.item_vecs)\n",
    "[(reco.movie_id2title[reco.movies_index2id[item]],\n",
    "  item) for item in np.argsort(pairwise_distances[reco.movies_id2index[movie_id]])[0:6]]"
   ]
  },
  {
   "cell_type": "markdown",
   "metadata": {},
   "source": [
    "### The Vanilla Matrix Factorization Model with biases \n",
    "\n",
    "* Despite its name, in SVD++, no singular value decomposition is applied.\n",
    "\n",
    "\n",
    "Now the model is defined as:\n",
    "$\\hat{r}_{ui} = \\bar{r} + b_{u_u} + b_{i_i}  \\sum_{k = 1}^KP_{uk} Q_{ik}^T  $\n",
    "\n",
    "To learn the model we can use the SGD as before. Now the latent factors and biases are updated as follows:\n",
    "* $error = r -\\hat{r}$\n",
    "* $b_{u_u} = b_{u_u} + \\alpha*(error -  \\lambda*b_{u_u})$\n",
    "* $b_{i_i} = b_{i_i} + \\alpha*(error -  \\lambda*b_{i_i})$\n",
    "* $P_{uk} = P_{uk} + \\alpha*(error*Q_{ik} -  \\lambda*P_{uk})$\n",
    "* $Q_{ik} = Q_{ik} + \\alpha*(error*P_{uk} -  \\lambda*Q_{ik})$\n",
    "\n",
    "where $\\alpha$ is the learning rate and $\\lambda$ is the regularization term."
   ]
  },
  {
   "cell_type": "code",
   "execution_count": 53,
   "metadata": {},
   "outputs": [],
   "source": [
    "from sklearn.decomposition import TruncatedSVD\n",
    "from scipy import sparse\n",
    "\n",
    "class RecSys_vanilla_mf_biases(RecSys_vanilla_mf):\n",
    "                  \n",
    "    def __sdg__(self):\n",
    "        for idx in self.training_indices:\n",
    "            u = self.sample_row[idx]\n",
    "            i = self.sample_col[idx]\n",
    "            user_id = self.users[u]\n",
    "            item_id = self.movies[i]\n",
    "            \n",
    "            prediction = self.predict(user_id, item_id)\n",
    "            error = (self.ratings[u,i] - prediction) # error\n",
    "            #Update latent factors\n",
    "            self.user_vecs[u, :] += self.learning_rate * \\\n",
    "                                    (error * self.item_vecs[i, :] - self.lmbda * self.user_vecs[u,:])\n",
    "            self.item_vecs[i, :] += self.learning_rate * \\\n",
    "                                    (error * self.user_vecs[u, :] - self.lmbda * self.item_vecs[i,:])\n",
    "            \n",
    "            self.bias_item[i] += self.learning_rate * (error - self.lmbda * self.bias_item[i]) \n",
    "            self.bias_user[u] += self.learning_rate * (error - self.lmbda * self.bias_user[u]) \n",
    "            \n",
    "                \n",
    "    def fit(self,n_epochs = 10,learning_rate =0.001,lmbda=0.1,verbose =True):\n",
    "        \"\"\" Train the model. \"\"\"\n",
    "        self.verbose = verbose\n",
    "        self.learning_rate = learning_rate\n",
    "        self.lmbda = lmbda\n",
    "        \n",
    "        self.ratings = np.float32(self.train.fillna(0).values)\n",
    "        self.mean_rating = self.ratings[self.ratings>0].mean() \n",
    "        self.n_users, self.n_items = self.train.shape\n",
    "        self.sample_row, self.sample_col = self.ratings.nonzero()\n",
    "        self.n_samples = len(self.sample_row)\n",
    "        \n",
    "        self.train_rmse =[]\n",
    "        self.test_rmse = []\n",
    "        iter_diff = 0\n",
    "        \n",
    "        # initialize latent vectors\n",
    "        self.user_vecs = np.random.normal(scale=1./self.num_components,\\\n",
    "                                          size=(self.n_users, self.num_components))\n",
    "        self.item_vecs = np.random.normal(scale=1./self.num_components,\n",
    "                                          size=(self.n_items, self.num_components))\n",
    "        #self.bias = -3\n",
    "        self.bias_item = np.random.normal(scale=1/self.n_items,size=(self.n_items))\n",
    "        self.bias_user = np.random.normal(scale=1/self.n_users,size=(self.n_users))\n",
    "        \n",
    "        \n",
    "        for epoch in range(n_epochs):\n",
    "    \n",
    "            print('Epoch: {}'.format(epoch))\n",
    "            \n",
    "            self.training_indices = np.arange(self.n_samples)\n",
    "            \n",
    "            #shuffle training samples\n",
    "            np.random.shuffle(self.training_indices)\n",
    "            self.__sdg__()\n",
    "            \n",
    "            self.train_rmse.append(evaluate(reco.predict,data_train,data_train))\n",
    "            self.test_rmse.append(evaluate(reco.predict,data_train,data_test))\n",
    "            \n",
    "            print('\\tTrain rmse: %s' % self.train_rmse[-1])\n",
    "            print('\\tTest rmse: %s' % self.test_rmse[-1])\n",
    "        \n",
    "        if(self.verbose):\n",
    "            self.__plot_learning_curves__()\n",
    "    \n",
    "    def predict(self, user_id, movie_id):\n",
    "        \"\"\" Single user and item prediction.\"\"\"\n",
    "        user_index = self.users_id2index[user_id]\n",
    "        if movie_id in self.movies_id2index:\n",
    "            item_index = self.movies_id2index[movie_id]\n",
    "            prediction =  self.mean_rating + self.user_vecs[user_index, :].dot(self.item_vecs[item_index, :].T) + self.bias_item[item_index] + self.bias_user[user_index]\n",
    "        else:\n",
    "            prediction = self.mean_rating # this is a new movie\n",
    "\n",
    "        return prediction\n",
    "    "
   ]
  },
  {
   "cell_type": "code",
   "execution_count": 54,
   "metadata": {},
   "outputs": [
    {
     "name": "stdout",
     "output_type": "stream",
     "text": [
      "Epoch: 0\n",
      "\tTrain rmse: 0.9913468457368302\n",
      "\tTest rmse: 0.9979949215042784\n",
      "Epoch: 1\n",
      "\tTrain rmse: 0.9870806122745771\n",
      "\tTest rmse: 0.9948522793356623\n",
      "Epoch: 2\n",
      "\tTrain rmse: 0.984805044184194\n",
      "\tTest rmse: 0.9930639953514394\n",
      "Epoch: 3\n",
      "\tTrain rmse: 0.9811079100864476\n",
      "\tTest rmse: 0.9901354370234936\n",
      "Epoch: 4\n",
      "\tTrain rmse: 0.9762339479771873\n",
      "\tTest rmse: 0.9860990867528389\n"
     ]
    },
    {
     "data": {
      "image/png": "[encoded data removed]",
      "text/plain": [
       "<Figure size 432x288 with 1 Axes>"
      ]
     },
     "metadata": {
      "needs_background": "light"
     },
     "output_type": "display_data"
    },
    {
     "name": "stdout",
     "output_type": "stream",
     "text": [
      "RMSE for Collaborative Recomender: 0.9860990867528389\n"
     ]
    }
   ],
   "source": [
    "reco = RecSys_vanilla_mf_biases(data_train,num_components=5)\n",
    "reco.fit(n_epochs = 5,learning_rate=0.02)\n",
    "print('RMSE for Collaborative Recomender: %s' % evaluate(reco.predict,data_train,data_test))"
   ]
  },
  {
   "cell_type": "code",
   "execution_count": 59,
   "metadata": {},
   "outputs": [
    {
     "data": {
      "text/plain": [
       "[('Toy Story (1995)', 0),\n",
       " ('Toy Story 2 (1999)', 2877),\n",
       " ('Aladdin (1992)', 574),\n",
       " (\"Bug's Life, A (1998)\", 2141),\n",
       " ('Babe (1995)', 33),\n",
       " ('Big Combo, The (1955)', 3041)]"
      ]
     },
     "execution_count": 59,
     "metadata": {},
     "output_type": "execute_result"
    }
   ],
   "source": [
    "from sklearn.metrics.pairwise import euclidean_distances\n",
    "movie_id = 1 #'Toy Story (1995)'\n",
    "#movie_id = 364 #'Lion King, The (1994)'\n",
    "\n",
    "pairwise_distances = euclidean_distances(reco.item_vecs, reco.item_vecs)\n",
    "[(reco.movie_id2title[reco.movies_index2id[item]],\n",
    "  item) for item in np.argsort(pairwise_distances[reco.movies_id2index[movie_id]])[0:6]]"
   ]
  },
  {
   "cell_type": "code",
   "execution_count": 58,
   "metadata": {},
   "outputs": [
    {
     "name": "stdout",
     "output_type": "stream",
     "text": [
      "Epoch: 0\n",
      "\tTrain rmse: 0.9918404400582648\n",
      "\tTest rmse: 0.9971472031926873\n",
      "Epoch: 1\n",
      "\tTrain rmse: 0.9883250250796387\n",
      "\tTest rmse: 0.9947714430050477\n",
      "Epoch: 2\n",
      "\tTrain rmse: 0.9873538383282028\n",
      "\tTest rmse: 0.9939117222403017\n",
      "Epoch: 3\n",
      "\tTrain rmse: 0.9865226764681743\n",
      "\tTest rmse: 0.9931890463365158\n",
      "Epoch: 4\n",
      "\tTrain rmse: 0.9847341921207973\n",
      "\tTest rmse: 0.9921212028814881\n",
      "Epoch: 5\n",
      "\tTrain rmse: 0.980232185010492\n",
      "\tTest rmse: 0.9885202367159757\n",
      "Epoch: 6\n",
      "\tTrain rmse: 0.9746726681683542\n",
      "\tTest rmse: 0.9841406770355249\n",
      "Epoch: 7\n",
      "\tTrain rmse: 0.9710660827443498\n",
      "\tTest rmse: 0.9810255847808734\n",
      "Epoch: 8\n",
      "\tTrain rmse: 0.968707488046929\n",
      "\tTest rmse: 0.9795449514946007\n",
      "Epoch: 9\n",
      "\tTrain rmse: 0.9664471557412316\n",
      "\tTest rmse: 0.9778740088787097\n",
      "Epoch: 10\n",
      "\tTrain rmse: 0.9633652309288895\n",
      "\tTest rmse: 0.9757426072061828\n",
      "Epoch: 11\n",
      "\tTrain rmse: 0.9606101761812883\n",
      "\tTest rmse: 0.9738740740273314\n",
      "Epoch: 12\n",
      "\tTrain rmse: 0.9577916641541371\n",
      "\tTest rmse: 0.9720319350355445\n",
      "Epoch: 13\n",
      "\tTrain rmse: 0.9547078264025206\n",
      "\tTest rmse: 0.9700805858597695\n",
      "Epoch: 14\n",
      "\tTrain rmse: 0.9529921930578952\n",
      "\tTest rmse: 0.9691932812219042\n",
      "Epoch: 15\n",
      "\tTrain rmse: 0.9509538619194832\n",
      "\tTest rmse: 0.9680413037241746\n",
      "Epoch: 16\n",
      "\tTrain rmse: 0.948922973986392\n",
      "\tTest rmse: 0.9670593970482877\n",
      "Epoch: 17\n",
      "\tTrain rmse: 0.9470018474294737\n",
      "\tTest rmse: 0.9666677155855142\n",
      "Epoch: 18\n",
      "\tTrain rmse: 0.9456333633815818\n",
      "\tTest rmse: 0.9655624841200103\n",
      "Epoch: 19\n",
      "\tTrain rmse: 0.9437464237596307\n",
      "\tTest rmse: 0.9643856747716276\n",
      "Epoch: 20\n",
      "\tTrain rmse: 0.9425927427316897\n",
      "\tTest rmse: 0.9642163263177506\n",
      "Epoch: 21\n",
      "\tTrain rmse: 0.940497328100526\n",
      "\tTest rmse: 0.963240697225947\n",
      "Epoch: 22\n",
      "\tTrain rmse: 0.9394192101867523\n",
      "\tTest rmse: 0.9629941081033332\n",
      "Epoch: 23\n",
      "\tTrain rmse: 0.938217826330569\n",
      "\tTest rmse: 0.9625299492782705\n",
      "Epoch: 24\n",
      "\tTrain rmse: 0.9367958611454423\n",
      "\tTest rmse: 0.9615725307389437\n",
      "Epoch: 25\n",
      "\tTrain rmse: 0.935169793534623\n",
      "\tTest rmse: 0.9611415792185312\n",
      "Epoch: 26\n",
      "\tTrain rmse: 0.9341188141048316\n",
      "\tTest rmse: 0.9612078053133838\n",
      "Epoch: 27\n",
      "\tTrain rmse: 0.93307693646678\n",
      "\tTest rmse: 0.9606247799942722\n",
      "Epoch: 28\n",
      "\tTrain rmse: 0.9319565630996446\n",
      "\tTest rmse: 0.9601152295137144\n",
      "Epoch: 29\n",
      "\tTrain rmse: 0.9304713968729325\n",
      "\tTest rmse: 0.9595164943949258\n",
      "Epoch: 30\n",
      "\tTrain rmse: 0.9297743946187024\n",
      "\tTest rmse: 0.95976954784434\n",
      "Epoch: 31\n",
      "\tTrain rmse: 0.9285688122486967\n",
      "\tTest rmse: 0.9590632192115713\n",
      "Epoch: 32\n",
      "\tTrain rmse: 0.9277981210737152\n",
      "\tTest rmse: 0.9593264697677765\n",
      "Epoch: 33\n",
      "\tTrain rmse: 0.9263509699462794\n",
      "\tTest rmse: 0.958661816024183\n",
      "Epoch: 34\n",
      "\tTrain rmse: 0.9259978292051086\n",
      "\tTest rmse: 0.9588364683751844\n",
      "Epoch: 35\n",
      "\tTrain rmse: 0.9244253968358701\n",
      "\tTest rmse: 0.9583251916121164\n",
      "Epoch: 36\n",
      "\tTrain rmse: 0.9237157610029818\n",
      "\tTest rmse: 0.9582073133616021\n",
      "Epoch: 37\n",
      "\tTrain rmse: 0.9231960622230546\n",
      "\tTest rmse: 0.9582008586501617\n",
      "Epoch: 38\n",
      "\tTrain rmse: 0.9216220732674085\n",
      "\tTest rmse: 0.9575753287038579\n",
      "Epoch: 39\n",
      "\tTrain rmse: 0.9208474685673261\n",
      "\tTest rmse: 0.957069347257108\n",
      "Epoch: 40\n",
      "\tTrain rmse: 0.9202345368785319\n",
      "\tTest rmse: 0.957765949225291\n",
      "Epoch: 41\n",
      "\tTrain rmse: 0.9193658416138811\n",
      "\tTest rmse: 0.957764899223902\n",
      "Epoch: 42\n",
      "\tTrain rmse: 0.9182701412594705\n",
      "\tTest rmse: 0.9573775779637165\n",
      "Epoch: 43\n",
      "\tTrain rmse: 0.9173977397340357\n",
      "\tTest rmse: 0.9571615731012095\n",
      "Epoch: 44\n",
      "\tTrain rmse: 0.9169057387613055\n",
      "\tTest rmse: 0.9574245226775663\n",
      "Epoch: 45\n",
      "\tTrain rmse: 0.9156100083597108\n",
      "\tTest rmse: 0.9568230529246936\n",
      "Epoch: 46\n",
      "\tTrain rmse: 0.9156637709428774\n",
      "\tTest rmse: 0.9573876828388507\n",
      "Epoch: 47\n",
      "\tTrain rmse: 0.9147196769370064\n",
      "\tTest rmse: 0.956723526113566\n",
      "Epoch: 48\n",
      "\tTrain rmse: 0.9140545351987536\n",
      "\tTest rmse: 0.9569589416625616\n",
      "Epoch: 49\n",
      "\tTrain rmse: 0.9132686098914607\n",
      "\tTest rmse: 0.9566728607502598\n"
     ]
    },
    {
     "data": {
      "image/png": "[encoded data removed]",
      "text/plain": [
       "<Figure size 432x288 with 1 Axes>"
      ]
     },
     "metadata": {
      "needs_background": "light"
     },
     "output_type": "display_data"
    }
   ],
   "source": [
    "reco = RecSys_vanilla_mf_biases(data_train,num_components=100)\n",
    "reco.fit(n_epochs = 50,learning_rate=0.02,lmbda=0.1)"
   ]
  },
  {
   "cell_type": "code",
   "execution_count": 61,
   "metadata": {},
   "outputs": [
    {
     "data": {
      "text/plain": [
       "[('Toy Story (1995)', 0),\n",
       " ('Toy Story 2 (1999)', 2877),\n",
       " ('Aladdin (1992)', 574),\n",
       " (\"Bug's Life, A (1998)\", 2141),\n",
       " ('Babe (1995)', 33),\n",
       " ('Big Combo, The (1955)', 3041)]"
      ]
     },
     "execution_count": 61,
     "metadata": {},
     "output_type": "execute_result"
    }
   ],
   "source": [
    "from sklearn.metrics.pairwise import euclidean_distances\n",
    "movie_id = 1 #'Toy Story (1995)'\n",
    "#movie_id = 364 #'Lion King, The (1994)'\n",
    "\n",
    "pairwise_distances = euclidean_distances(reco.item_vecs, reco.item_vecs)\n",
    "[(reco.movie_id2title[reco.movies_index2id[item]],\n",
    "  item) for item in np.argsort(pairwise_distances[reco.movies_id2index[movie_id]])[0:6]]"
   ]
  },
  {
   "cell_type": "markdown",
   "metadata": {},
   "source": [
    "### Funk SVD\n",
    "Funk SVD is the original algorithm proposed by Simon Funk. It become really popular because of the Netfliz Prize.\n",
    "\n",
    "\n",
    "\n",
    "We have a huge sparse matrix $R$ of user-item interactions;\n",
    "\n",
    "\n",
    "$R = \\begin{pmatrix} {\\color{Red} ?} & 2 & \\cdots & {\\color{Red} ?} & {\\color{Red} ?} \\\\ {\\color{Red} ?} & {\\color{Red} ?} & \\cdots & {\\color{Red} ?} & 4.5 \\\\ \\vdots & \\ddots & \\ddots & \\ddots & \\vdots \\\\ 3 & {\\color{Red} ?} & \\cdots & {\\color{Red} ?} & {\\color{Red} ?} \\\\ {\\color{Red} ?} & {\\color{Red} ?} & \\cdots & 5 & {\\color{Red} ?} \\end{pmatrix}$\n",
    "\n",
    "The idea is to estimate the unknown rating by factorizing the matrix into two smaller matrices representing the user and the item characteristics. These matrices are callent user, $P$, and item, $Q$, latent factors. Then the dot product between these two matrices reconstruct our rating matrix:\n",
    "$$ R \\approx P*Q^T$$\n",
    "\n",
    "\n",
    "Despite its name, in Funk SVD, no singular value decomposition is applied.\n",
    "\n",
    "\n",
    "In order to estimate these matrices $P$ and $Q$ we can use \n"
   ]
  },
  {
   "cell_type": "markdown",
   "metadata": {},
   "source": [
    "### Factorization Matrix as Dimensionality Reduction"
   ]
  },
  {
   "cell_type": "raw",
   "metadata": {},
   "source": [
    "from sklearn.decomposition import TruncatedSVD\n",
    "from scipy import sparse\n",
    "\n",
    "class SVD_CollaborativeFiltering:\n",
    "    \"\"\" Collaborative filtering using a custom sim(u,u'). \"\"\"\n",
    "    \n",
    "    def __init__(self,DataFrame, num_components=10):\n",
    "        \"\"\" Constructor \"\"\"\n",
    "        self.df=DataFrame\n",
    "        self.num_components=num_components\n",
    "        \n",
    "    def fit(self):\n",
    "        \"\"\" Prepare data structures for estimation. Similarity matrix for users \"\"\"\n",
    "        allUsers=set(self.df['user_id'])\n",
    "        \n",
    "        svd = TruncatedSVD(n_components=self.num_components)\n",
    "        \n",
    "        urm = pd.pivot_table(self.df[['user_id','movie_id','rating']],columns='movie_id',index='user_id',values='rating',fill_value=0)\n",
    "        \n",
    "        user_index = np.arange(len(urm.index))\n",
    "        self.users = dict(zip(user_index,urm.index ))\n",
    "        self.users_id2index = dict(zip(urm.index,user_index)) \n",
    "        \n",
    "        movie_index = np.arange(len(urm.columns))\n",
    "        self.movies_id2index= dict(zip(urm.columns, movie_index))\n",
    "        self.movies_index2id= dict(zip(movie_index,urm.columns))\n",
    "        \n",
    "        X= np.float32(urm.values)\n",
    "        \n",
    "        \n",
    "        #Lets continue.....\n",
    "        matrix = svd.fit_transform(X)\n",
    "        print(matrix.shape)\n",
    "        self.sim = np.corrcoef(matrix)\n",
    "    \n",
    "    def predict(self, user_id, movie_id):\n",
    "        movie_users = self.df[self.df['movie_id'] ==movie_id]\n",
    "        #movie_users = movie_users.set_index('user_id')\n",
    "                \n",
    "        allUsers = [ self.users_id2index[user_index] for user_index in movie_users.user_id if user_index in self.users_id2index] \n",
    "        a = movie_users.rating.values\n",
    "        b = self.sim[self.users_id2index[user_id]][allUsers] \n",
    "        rating_num = np.sum(a*b)\n",
    "        rating_den = np.sum(b)\n",
    "        if rating_den==0: \n",
    "            if self.df.rating[self.df['movie_id']==movie_id].mean()>0:\n",
    "                # return the mean movie rating if there is no similar for the computation\n",
    "                return self.df.rating[self.df['movie_id']==movie_id].mean()\n",
    "            else:\n",
    "                # else return mean user rating \n",
    "                return self.df.rating[self.df['user_id']==user_id].mean()\n",
    "        return rating_num/rating_den\n"
   ]
  },
  {
   "cell_type": "raw",
   "metadata": {},
   "source": [
    "reco = SVD_CollaborativeFiltering(data_train,num_components=10)\n",
    "reco.fit()\n",
    "print('RMSE for Collaborative Recomender: %s' % evaluate(reco.predict,data_train,data_test))"
   ]
  },
  {
   "cell_type": "code",
   "execution_count": 15,
   "metadata": {},
   "outputs": [],
   "source": [
    "\n"
   ]
  }
 ],
 "metadata": {
  "kernelspec": {
   "display_name": "Python 3",
   "language": "python",
   "name": "python3"
  },
  "language_info": {
   "codemirror_mode": {
    "name": "ipython",
    "version": 3
   },
   "file_extension": ".py",
   "mimetype": "text/x-python",
   "name": "python",
   "nbconvert_exporter": "python",
   "pygments_lexer": "ipython3",
   "version": "3.8.3"
  }
 },
 "nbformat": 4,
 "nbformat_minor": 2
}
